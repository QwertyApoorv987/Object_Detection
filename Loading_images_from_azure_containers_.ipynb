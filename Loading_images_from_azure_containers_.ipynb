{
  "nbformat": 4,
  "nbformat_minor": 0,
  "metadata": {
    "colab": {
      "name": "Loading images from azure containers .ipynb",
      "provenance": [],
      "collapsed_sections": [],
      "authorship_tag": "ABX9TyNliOQzgXsqEH/uE+DYzqhh",
      "include_colab_link": true
    },
    "kernelspec": {
      "name": "python3",
      "display_name": "Python 3"
    }
  },
  "cells": [
    {
      "cell_type": "markdown",
      "metadata": {
        "id": "view-in-github",
        "colab_type": "text"
      },
      "source": [
        "<a href=\"https://colab.research.google.com/github/QwertyApoorv987/Object_Detection/blob/main/Loading_images_from_azure_containers_.ipynb\" target=\"_parent\"><img src=\"https://colab.research.google.com/assets/colab-badge.svg\" alt=\"Open In Colab\"/></a>"
      ]
    },
    {
      "cell_type": "code",
      "metadata": {
        "id": "IF7sZ_7oHMlc"
      },
      "source": [
        "import matplotlib.pyplot as plt\r\n",
        "import matplotlib\r\n",
        "matplotlib.use('Agg')\r\n",
        "from sklearn.preprocessing import LabelBinarizer # Label encoding, 1-hot encoding, multi-encoding\r\n",
        "# LABEL binarizer is a 1-hot encoded MATRIX \r\n",
        "import cv2\r\n",
        "import urllib.request\r\n",
        "import numpy as np\r\n",
        "import random\r\n",
        "from keras.preprocessing.image import ImageDataGenerator, img_to_array\r\n",
        "from sklearn.model_selection import train_test_split\r\n",
        "from keras import backend # backend -> tf/theano etc\r\n",
        "from keras.layers.core import Dense, Dropout, Flatten, Activation\r\n",
        "from keras.layers.convolutional import Conv2D, MaxPooling2D\r\n",
        "from keras.layers.normalization import BatchNormalization\r\n",
        "\r\n",
        "from keras.models import Sequential # no parallel, no cycles "
      ],
      "execution_count": 38,
      "outputs": []
    },
    {
      "cell_type": "code",
      "metadata": {
        "id": "2kjM3a6C3K7P"
      },
      "source": [
        "def url_to_image(url):\r\n",
        "\t# download the image, convert it to a NumPy array, and then read\r\n",
        "\t# it into OpenCV format\r\n",
        "\tresp = urllib.request.urlopen(url)\r\n",
        "\timage = np.asarray(bytearray(resp.read()), dtype=\"uint8\")\r\n",
        "\timage = cv2.imdecode(image, cv2.IMREAD_COLOR)\r\n",
        "\t# return the image\r\n",
        "\treturn image"
      ],
      "execution_count": 41,
      "outputs": []
    },
    {
      "cell_type": "code",
      "metadata": {
        "colab": {
          "base_uri": "https://localhost:8080/"
        },
        "id": "oyzwMkKba206",
        "outputId": "ff7afc25-937a-4e30-f65b-fb9e8167a2ae"
      },
      "source": [
        "#image = url_to_image('https://rawimagestraining.blob.core.windows.net/cheetah/000.png')\r\n",
        "#print(img)"
      ],
      "execution_count": 42,
      "outputs": [
        {
          "output_type": "stream",
          "text": [
            "[[[ 58 122 110]\n",
            "  [ 43 107  95]\n",
            "  [  6  70  58]\n",
            "  ...\n",
            "  [ 25  93  92]\n",
            "  [ 29  97  96]\n",
            "  [ 29  97  96]]\n",
            "\n",
            " [[ 51 115 103]\n",
            "  [ 57 121 109]\n",
            "  [ 12  76  64]\n",
            "  ...\n",
            "  [ 27  95  94]\n",
            "  [ 28  96  95]\n",
            "  [ 28  96  95]]\n",
            "\n",
            " [[ 31  96  81]\n",
            "  [ 43 108  93]\n",
            "  [  7  72  57]\n",
            "  ...\n",
            "  [ 24  90  89]\n",
            "  [ 23  89  88]\n",
            "  [ 23  89  88]]\n",
            "\n",
            " ...\n",
            "\n",
            " [[ 17  68  30]\n",
            "  [ 17  69  32]\n",
            "  [ 21  72  38]\n",
            "  ...\n",
            "  [ 45  99  82]\n",
            "  [ 48 102  85]\n",
            "  [ 48 102  85]]\n",
            "\n",
            " [[ 45  94  56]\n",
            "  [  9  60  23]\n",
            "  [ 18  67  35]\n",
            "  ...\n",
            "  [ 50 100  82]\n",
            "  [ 48  96  78]\n",
            "  [ 56 104  86]]\n",
            "\n",
            " [[ 45  94  56]\n",
            "  [ 11  59  23]\n",
            "  [ 18  67  35]\n",
            "  ...\n",
            "  [ 52 100  82]\n",
            "  [ 51  95  78]\n",
            "  [ 59 103  86]]]\n"
          ],
          "name": "stdout"
        }
      ]
    },
    {
      "cell_type": "code",
      "metadata": {
        "colab": {
          "base_uri": "https://localhost:8080/"
        },
        "id": "9VNpBVGg4W1p",
        "outputId": "9f030762-2699-466f-ee69-4dfba0ceae7a"
      },
      "source": [
        "animals = ['cheetah', 'monkeys', 'elephants']\r\n",
        "len(animals)"
      ],
      "execution_count": 63,
      "outputs": [
        {
          "output_type": "execute_result",
          "data": {
            "text/plain": [
              "3"
            ]
          },
          "metadata": {
            "tags": []
          },
          "execution_count": 63
        }
      ]
    },
    {
      "cell_type": "code",
      "metadata": {
        "colab": {
          "base_uri": "https://localhost:8080/"
        },
        "id": "kBoW0s906edk",
        "outputId": "48df7517-cfd4-403e-ed2d-e282e17c2a41"
      },
      "source": [
        " path = 'https://rawimagestraining.blob.core.windows.net/' + animals[2]+ '/' + str(fname) + '.png'\r\n",
        "path = 'https://rawimagestraining.blob.core.windows.net/' + animals[i] + '/' + '0' + str(fname) + '.png'\r\n",
        "print(path)"
      ],
      "execution_count": 66,
      "outputs": [
        {
          "output_type": "stream",
          "text": [
            "https://rawimagestraining.blob.core.windows.net/monkeys/0101.png\n"
          ],
          "name": "stdout"
        }
      ]
    },
    {
      "cell_type": "code",
      "metadata": {
        "id": "OJPQX4THO-vU"
      },
      "source": [
        "fname = 0\r\n",
        "data = []\r\n",
        "i = 0\r\n",
        "for i in range(len(animals)):\r\n",
        "  fname = 0\r\n",
        "  for fname in range(150):\r\n",
        "    if len(str(fname))==3:\r\n",
        "      path = 'https://rawimagestraining.blob.core.windows.net/' + animals[i]+ '/' + str(fname) + '.png'\r\n",
        "      fname = fname + 1\r\n",
        "      image = url_to_image(path)\r\n",
        "    if len(str(fname))==2:\r\n",
        "      path = 'https://rawimagestraining.blob.core.windows.net/' + animals[i] + '/0' + str(fname) + '.png'\r\n",
        "      fname = fname + 1\r\n",
        "      image = url_to_image(path)\r\n",
        "    if len(str(fname))==1:\r\n",
        "      path = 'https://rawimagestraining.blob.core.windows.net/' + animals[i] + '/00' + str(fname) + '.png'\r\n",
        "      fname = fname + 1\r\n",
        "      image = url_to_image(path)\r\n",
        "    imgdata = cv2.resize(image,(96,96)) \r\n",
        "    data.append(imgdata)"
      ],
      "execution_count": 67,
      "outputs": []
    },
    {
      "cell_type": "code",
      "metadata": {
        "colab": {
          "base_uri": "https://localhost:8080/"
        },
        "id": "QE2wvXft4H5_",
        "outputId": "6640450c-dadb-418d-d139-7b101ebaa7f9"
      },
      "source": [
        "len(data)"
      ],
      "execution_count": 68,
      "outputs": [
        {
          "output_type": "execute_result",
          "data": {
            "text/plain": [
              "450"
            ]
          },
          "metadata": {
            "tags": []
          },
          "execution_count": 68
        }
      ]
    },
    {
      "cell_type": "code",
      "metadata": {
        "colab": {
          "base_uri": "https://localhost:8080/"
        },
        "id": "nTy4uetXXfwn",
        "outputId": "c75af7c9-8bc6-4361-ded2-1bb47febcb41"
      },
      "source": [
        "data = []\r\n",
        "labels = [] \r\n",
        "# read all images\r\n",
        "all_images = sorted(list(paths.list_images(HP_dataset))) ### listing all the images that have Data in their path\r\n",
        "all_images[:5]"
      ],
      "execution_count": 27,
      "outputs": [
        {
          "output_type": "execute_result",
          "data": {
            "text/plain": [
              "['Data/Cheetah/000.png',\n",
              " 'Data/Cheetah/001.png',\n",
              " 'Data/Cheetah/002.png',\n",
              " 'Data/Cheetah/003.png',\n",
              " 'Data/Cheetah/004.png']"
            ]
          },
          "metadata": {
            "tags": []
          },
          "execution_count": 27
        }
      ]
    },
    {
      "cell_type": "code",
      "metadata": {
        "id": "cyyHQRnbXkkZ"
      },
      "source": [
        "data = []\r\n",
        "coordinates = []\r\n",
        "import os\r\n",
        "for impath in all_images:\r\n",
        "  img = cv2.imread(impath)\r\n",
        "  resized = cv2.resize(img, (96,96) ) ### every image to (96,96) aspect ratio\r\n",
        "  imageData = img_to_array(resized)\r\n",
        "  img2 = imageData[0:95,0:95]\r\n",
        "  indices = np.where(img2!= [0])\r\n",
        "  coordinates.append((indices[0], indices[1]))\r\n",
        "  data.append(imageData)"
      ],
      "execution_count": 32,
      "outputs": []
    },
    {
      "cell_type": "code",
      "metadata": {
        "colab": {
          "base_uri": "https://localhost:8080/"
        },
        "id": "_DlPFkBUXrbj",
        "outputId": "2b0dacb8-dfc1-4dc0-bb19-787b5a3e2b63"
      },
      "source": [
        "coordinates[0]"
      ],
      "execution_count": 33,
      "outputs": [
        {
          "output_type": "execute_result",
          "data": {
            "text/plain": [
              "(array([ 0,  0,  0, ..., 94, 94, 94]), array([ 0,  0,  0, ..., 94, 94, 94]))"
            ]
          },
          "metadata": {
            "tags": []
          },
          "execution_count": 33
        }
      ]
    }
  ]
}