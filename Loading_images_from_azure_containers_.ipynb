{
  "nbformat": 4,
  "nbformat_minor": 0,
  "metadata": {
    "colab": {
      "name": "Loading images from azure containers .ipynb",
      "provenance": [],
      "collapsed_sections": [],
      "authorship_tag": "ABX9TyNgEWxntclK2fGQ93tOl3cs",
      "include_colab_link": true
    },
    "kernelspec": {
      "name": "python3",
      "display_name": "Python 3"
    }
  },
  "cells": [
    {
      "cell_type": "markdown",
      "metadata": {
        "id": "view-in-github",
        "colab_type": "text"
      },
      "source": [
        "<a href=\"https://colab.research.google.com/github/QwertyApoorv987/Object_Detection/blob/main/Loading_images_from_azure_containers_.ipynb\" target=\"_parent\"><img src=\"https://colab.research.google.com/assets/colab-badge.svg\" alt=\"Open In Colab\"/></a>"
      ]
    },
    {
      "cell_type": "code",
      "metadata": {
        "id": "IF7sZ_7oHMlc"
      },
      "source": [
        "import matplotlib.pyplot as plt\r\n",
        "import matplotlib\r\n",
        "matplotlib.use('Agg')\r\n",
        "from sklearn.preprocessing import LabelBinarizer # Label encoding, 1-hot encoding, multi-encoding\r\n",
        "# LABEL binarizer is a 1-hot encoded MATRIX \r\n",
        "import cv2\r\n",
        "import urllib.request\r\n",
        "import numpy as np\r\n",
        "import random\r\n",
        "from keras.preprocessing.image import ImageDataGenerator, img_to_array\r\n",
        "from sklearn.model_selection import train_test_split\r\n",
        "from keras import backend # backend -> tf/theano etc\r\n",
        "from keras.layers.core import Dense, Dropout, Flatten, Activation\r\n",
        "from keras.layers.convolutional import Conv2D, MaxPooling2D\r\n",
        "from keras.layers.normalization import BatchNormalization\r\n",
        "\r\n",
        "from keras.models import Sequential # no parallel, no cycles "
      ],
      "execution_count": 38,
      "outputs": []
    },
    {
      "cell_type": "code",
      "metadata": {
        "id": "2kjM3a6C3K7P"
      },
      "source": [
        "def url_to_image(url):\r\n",
        "\t# download the image, convert it to a NumPy array, and then read\r\n",
        "\t# it into OpenCV format\r\n",
        "\tresp = urllib.request.urlopen(url)\r\n",
        "\timage = np.asarray(bytearray(resp.read()), dtype=\"uint8\")\r\n",
        "\timage = cv2.imdecode(image, cv2.IMREAD_COLOR)\r\n",
        "\t# return the image\r\n",
        "\treturn image"
      ],
      "execution_count": 41,
      "outputs": []
    },
    {
      "cell_type": "code",
      "metadata": {
        "colab": {
          "base_uri": "https://localhost:8080/"
        },
        "id": "9VNpBVGg4W1p",
        "outputId": "9f030762-2699-466f-ee69-4dfba0ceae7a"
      },
      "source": [
        "animals = ['cheetah', 'monkeys', 'elephants']\r\n",
        "len(animals)"
      ],
      "execution_count": 63,
      "outputs": [
        {
          "output_type": "execute_result",
          "data": {
            "text/plain": [
              "3"
            ]
          },
          "metadata": {
            "tags": []
          },
          "execution_count": 63
        }
      ]
    },
    {
      "cell_type": "code",
      "metadata": {
        "colab": {
          "base_uri": "https://localhost:8080/"
        },
        "id": "kBoW0s906edk",
        "outputId": "48df7517-cfd4-403e-ed2d-e282e17c2a41"
      },
      "source": [
        "# path = 'https://rawimagestraining.blob.core.windows.net/' + animals[2]+ '/' + str(fname) + '.png'\r\n",
        "# path = 'https://rawimagestraining.blob.core.windows.net/' + animals[1] + '/' + '0' + str(fname) + '.png'\r\n",
        "# print(path)"
      ],
      "execution_count": 66,
      "outputs": [
        {
          "output_type": "stream",
          "text": [
            "https://rawimagestraining.blob.core.windows.net/monkeys/0101.png\n"
          ],
          "name": "stdout"
        }
      ]
    },
    {
      "cell_type": "code",
      "metadata": {
        "id": "OJPQX4THO-vU"
      },
      "source": [
        "fname = 0\r\n",
        "data = []\r\n",
        "i = 0\r\n",
        "for i in range(len(animals)):\r\n",
        "  fname = 0\r\n",
        "  for fname in range(150):\r\n",
        "    if len(str(fname))==3:\r\n",
        "      path = 'https://rawimagestraining.blob.core.windows.net/' + animals[i]+ '/' + str(fname) + '.png'\r\n",
        "      fname = fname + 1\r\n",
        "      image = url_to_image(path)\r\n",
        "    if len(str(fname))==2:\r\n",
        "      path = 'https://rawimagestraining.blob.core.windows.net/' + animals[i] + '/0' + str(fname) + '.png'\r\n",
        "      fname = fname + 1\r\n",
        "      image = url_to_image(path)\r\n",
        "    if len(str(fname))==1:\r\n",
        "      path = 'https://rawimagestraining.blob.core.windows.net/' + animals[i] + '/00' + str(fname) + '.png'\r\n",
        "      fname = fname + 1\r\n",
        "      image = url_to_image(path)\r\n",
        "    imgdata = cv2.resize(image,(96,96)) \r\n",
        "    data.append(imgdata)"
      ],
      "execution_count": 67,
      "outputs": []
    },
    {
      "cell_type": "code",
      "metadata": {
        "colab": {
          "base_uri": "https://localhost:8080/"
        },
        "id": "QE2wvXft4H5_",
        "outputId": "6640450c-dadb-418d-d139-7b101ebaa7f9"
      },
      "source": [
        "len(data)"
      ],
      "execution_count": 68,
      "outputs": [
        {
          "output_type": "execute_result",
          "data": {
            "text/plain": [
              "450"
            ]
          },
          "metadata": {
            "tags": []
          },
          "execution_count": 68
        }
      ]
    },
    {
      "cell_type": "code",
      "metadata": {
        "id": "aWNRnk6McTIm"
      },
      "source": [
        ""
      ],
      "execution_count": null,
      "outputs": []
    }
  ]
}