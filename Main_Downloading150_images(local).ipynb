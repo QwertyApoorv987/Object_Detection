{
  "nbformat": 4,
  "nbformat_minor": 0,
  "metadata": {
    "colab": {
      "name": "Main-Downloading150_images(local).ipynb",
      "provenance": [],
      "collapsed_sections": [],
      "authorship_tag": "ABX9TyMgYTY05AL4Hj0g2E64dLxv",
      "include_colab_link": true
    },
    "kernelspec": {
      "name": "python3",
      "display_name": "Python 3"
    }
  },
  "cells": [
    {
      "cell_type": "markdown",
      "metadata": {
        "id": "view-in-github",
        "colab_type": "text"
      },
      "source": [
        "<a href=\"https://colab.research.google.com/github/QwertyApoorv987/Object_Detection/blob/main/Main_Downloading150_images(local).ipynb\" target=\"_parent\"><img src=\"https://colab.research.google.com/assets/colab-badge.svg\" alt=\"Open In Colab\"/></a>"
      ]
    },
    {
      "cell_type": "code",
      "metadata": {
        "id": "7Z_2esusqbFA"
      },
      "source": [
        "import requests\r\n",
        "import matplotlib.pyplot as plt\r\n",
        "from PIL import Image\r\n",
        "from io import BytesIO\r\n",
        "\r\n",
        "subscription_key = \"7dffa74661854bdcb439d291b1328b50\"\r\n",
        "search_url = \"https://api.bing.microsoft.com/v7.0/images/search\"  ###https://api.bing.microsoft.com/\r\n",
        "search_term =  \"dogs\""
      ],
      "execution_count": 1,
      "outputs": []
    },
    {
      "cell_type": "code",
      "metadata": {
        "colab": {
          "base_uri": "https://localhost:8080/"
        },
        "id": "jSLTmgRzgx4P",
        "outputId": "c9510e03-8c00-4e25-e3e4-0aecd10cec84"
      },
      "source": [
        "print(search_term)"
      ],
      "execution_count": 2,
      "outputs": [
        {
          "output_type": "stream",
          "text": [
            "dogs\n"
          ],
          "name": "stdout"
        }
      ]
    },
    {
      "cell_type": "code",
      "metadata": {
        "id": "7iZDnHnZr2Kv"
      },
      "source": [
        "headers = {\"Ocp-Apim-Subscription-Key\" : subscription_key}\r\n",
        "params  = {\"q\": search_term, \"license\": \"public\", \"imageType\": \"photo\", \"count\": 500}"
      ],
      "execution_count": 3,
      "outputs": []
    },
    {
      "cell_type": "code",
      "metadata": {
        "id": "cblEk6Rcr4kV"
      },
      "source": [
        "response = requests.get(search_url, headers=headers, params=params)\r\n",
        "response.raise_for_status()"
      ],
      "execution_count": 4,
      "outputs": []
    },
    {
      "cell_type": "code",
      "metadata": {
        "id": "wNGpNwHxr6_S"
      },
      "source": [
        "\r\n",
        "searchResults = response.json()  ### stroinf the result in json form (json readable and easy way of storing objects)\r\n",
        "#print(searchResults)"
      ],
      "execution_count": 5,
      "outputs": []
    },
    {
      "cell_type": "code",
      "metadata": {
        "id": "PJUkuCFHr30P"
      },
      "source": [
        "#url = []\r\n",
        "#for i in range(20):\r\n",
        "#  response = requests.get(search_url, headers=headers, params=params)#\r\n",
        "#  response.raise_for_status()\r\n",
        "#  searchResults = response.json()\r\n",
        "  #complete = [ img for img in searchResults[\"value\"][:i] ] \r\n",
        "#  for img in searchResults[\"value\"][:25]:\r\n",
        "#    url.append(img['thumbnailUrl'])\r\n"
      ],
      "execution_count": 6,
      "outputs": []
    },
    {
      "cell_type": "code",
      "metadata": {
        "colab": {
          "base_uri": "https://localhost:8080/"
        },
        "id": "g39i-MN_RsXs",
        "outputId": "9f684de2-8850-450d-eecd-9e5fa3926cd0"
      },
      "source": [
        "url = []\r\n",
        "for img in searchResults[\"value\"][:200]:\r\n",
        "  url.append(img['thumbnailUrl'])\r\n",
        "url\r\n"
      ],
      "execution_count": 7,
      "outputs": [
        {
          "output_type": "execute_result",
          "data": {
            "text/plain": [
              "['https://tse4.mm.bing.net/th?id=OIP.w61cfPtN9apJ2XARI3SqfAHaHa&pid=Api',\n",
              " 'https://tse3.mm.bing.net/th?id=OIP.KEfvtNAVGw3rcrfJQTlf1gHaLG&pid=Api',\n",
              " 'https://tse2.mm.bing.net/th?id=OIP.Gf3-vf8BQYcg5dS2aNe3TwHaE8&pid=Api',\n",
              " 'https://tse2.mm.bing.net/th?id=OIP.jvQjwf00dU2WDX-pkRkUywHaE9&pid=Api',\n",
              " 'https://tse2.mm.bing.net/th?id=OIP.RahXW5SrLhQ_Bgw07x7jZAHaIB&pid=Api',\n",
              " 'https://tse2.mm.bing.net/th?id=OIP.us2WMJk0vYr-kEOW0z95FgHaE7&pid=Api',\n",
              " 'https://tse3.mm.bing.net/th?id=OIP.aVL2CRIrQqPRegpU_dWs2gHaHa&pid=Api',\n",
              " 'https://tse3.mm.bing.net/th?id=OIP.pMlxKnRgyOb5pGfTcDsq8gHaFj&pid=Api',\n",
              " 'https://tse2.mm.bing.net/th?id=OIP.JVqxqOJLqAiIb_RnJjqfCQHaE8&pid=Api',\n",
              " 'https://tse1.mm.bing.net/th?id=OIP.9KNX4yRgkrkpclBhOZPqTgHaJa&pid=Api',\n",
              " 'https://tse3.mm.bing.net/th?id=OIP.vqQSEprYzW_ZhtfXIADdjgHaE8&pid=Api',\n",
              " 'https://tse2.mm.bing.net/th?id=OIP.8_KEGwG4jTxXYeoWpirVEwHaHa&pid=Api',\n",
              " 'https://tse2.mm.bing.net/th?id=OIP.iEp54ten8N9ReNKneELpRQHaE7&pid=Api',\n",
              " 'https://tse3.mm.bing.net/th?id=OIP.wmTTvOKfSgWk7qiDBy3nDAHaE8&pid=Api',\n",
              " 'https://tse1.mm.bing.net/th?id=OIP.L-G0CW31Sw3hh1HTJeSNiAHaCR&pid=Api',\n",
              " 'https://tse1.mm.bing.net/th?id=OIP.hWtrU_7fjUhJzITFVmiJSgHaE8&pid=Api',\n",
              " 'https://tse3.mm.bing.net/th?id=OIP.8tLWhWrtlVgG4uJJD70p_AHaFq&pid=Api',\n",
              " 'https://tse3.mm.bing.net/th?id=OIP.MAjGdYnniUB-ZvVm9Tw9CgHaJ4&pid=Api',\n",
              " 'https://tse3.mm.bing.net/th?id=OIP.yjn7V1Lel2974srVM1727gHaE0&pid=Api',\n",
              " 'https://tse1.mm.bing.net/th?id=OIP.jc9mWjT0227hAWcXfiNjhQHaE8&pid=Api',\n",
              " 'https://tse3.mm.bing.net/th?id=OIP.rVBZgjwaXSbJ9TpuZfQl7gHaLH&pid=Api',\n",
              " 'https://tse2.mm.bing.net/th?id=OIP.l5fNNaBP4sIGInQ4FwZc0AHaE5&pid=Api',\n",
              " 'https://tse3.mm.bing.net/th?id=OIP.NFBh63wyGmgnyNVmQGIgYwHaLI&pid=Api',\n",
              " 'https://tse1.mm.bing.net/th?id=OIP.N57d9MrISqpO8sZfaciKBgHaE8&pid=Api',\n",
              " 'https://tse1.mm.bing.net/th?id=OIP.A2heAAIweR_95NX6vNSy4AHaFj&pid=Api',\n",
              " 'https://tse3.mm.bing.net/th?id=OIP.moZWdNwjlsKhE_Stk5O5XQHaFW&pid=Api',\n",
              " 'https://tse2.mm.bing.net/th?id=OIP.xnTaaqb3FuUzGgbf5sJGZQHaE7&pid=Api',\n",
              " 'https://tse2.mm.bing.net/th?id=OIP.S8o9oNYcGB-gFKPqgMCfiwHaE5&pid=Api',\n",
              " 'https://tse1.mm.bing.net/th?id=OIP.3gqaxMGUWaWtLUTDh241twHaFj&pid=Api',\n",
              " 'https://tse1.mm.bing.net/th?id=OIP.5bQD9dDlC6PZLD66OrA9_QHaFz&pid=Api',\n",
              " 'https://tse1.mm.bing.net/th?id=OIP.GvR5pfIYtYwcVNxj9vWPSgHaEe&pid=Api',\n",
              " 'https://tse3.mm.bing.net/th?id=OIP.u8jA_PjODZI3k5xxCD4_dwHaLH&pid=Api',\n",
              " 'https://tse2.mm.bing.net/th?id=OIP.emkatAdpvTsgwYowxyC6rQHaEM&pid=Api',\n",
              " 'https://tse3.mm.bing.net/th?id=OIP.kQa5ol28ICXwqSgxpNROjAHaEK&pid=Api',\n",
              " 'https://tse1.mm.bing.net/th?id=OIP.jIwYPrHTgfAQpdr8PuSDAQHaGl&pid=Api',\n",
              " 'https://tse1.mm.bing.net/th?id=OIP.RmawZJtQwEFGgTBzKPVXcQHaGQ&pid=Api',\n",
              " 'https://tse1.explicit.bing.net/th?id=OIP.5-fp4oWiDWKWe_FfJkWjPQHaE7&pid=Api',\n",
              " 'https://tse2.mm.bing.net/th?id=OIP.MLGP3QOM8soOqhJP6U05eQHaFj&pid=Api',\n",
              " 'https://tse1.mm.bing.net/th?id=OIP.VBe-Ge2Sd7tE6oaOvy8v8gHaE8&pid=Api',\n",
              " 'https://tse2.mm.bing.net/th?id=OIP.UiRW3yyPf8skaT_LQ4hu8QHaJS&pid=Api',\n",
              " 'https://tse1.mm.bing.net/th?id=OIP.30fKDqubC5GIs4s3ed4M_AHaLH&pid=Api',\n",
              " 'https://tse2.explicit.bing.net/th?id=OIP.olTbggFQfO56oOAoSl_zmQHaJ4&pid=Api',\n",
              " 'https://tse1.mm.bing.net/th?id=OIP.SF7-5ZivMavrG22dVWgCnwHaDo&pid=Api',\n",
              " 'https://tse2.mm.bing.net/th?id=OIP.rTmVgNsHzxBCJc9kvRQKjwHaEm&pid=Api',\n",
              " 'https://tse1.mm.bing.net/th?id=OIP.FVynieO8GG5LTFuMJcJwswHaFj&pid=Api',\n",
              " 'https://tse1.mm.bing.net/th?id=OIP.kj3VCm8FDisZ0jGHAn84pwHaLH&pid=Api',\n",
              " 'https://tse4.mm.bing.net/th?id=OIP.U-XyXOsGz92D2jtnNEQy4wHaGJ&pid=Api',\n",
              " 'https://tse1.mm.bing.net/th?id=OIP.YinL_vk6y6tf5GgNnCHwZQHaFj&pid=Api',\n",
              " 'https://tse3.mm.bing.net/th?id=OIP.CyLT93XhurZ2pmjaB_dFwQHaE8&pid=Api',\n",
              " 'https://tse2.mm.bing.net/th?id=OIP.9__qLHZVQOcHOJYtJJLY-QHaFj&pid=Api',\n",
              " 'https://tse2.mm.bing.net/th?id=OIP.yeud_3gLfH7vaFdKlStJpQHaE8&pid=Api',\n",
              " 'https://tse4.mm.bing.net/th?id=OIP.ZjPw6Lr3hqUrMjGGBAYMRwAAAA&pid=Api',\n",
              " 'https://tse1.mm.bing.net/th?id=OIP.PBWaz4uoGzHDpHNojAb1ygHaE8&pid=Api',\n",
              " 'https://tse1.mm.bing.net/th?id=OIP.7cZH9jxgbj-CnObI1kogPQHaJ4&pid=Api',\n",
              " 'https://tse1.mm.bing.net/th?id=OIP.zPoqJrrWEKCeCc2yeGU80wHaE0&pid=Api',\n",
              " 'https://tse3.mm.bing.net/th?id=OIP.RgJsGRJyiPuv-MMLYYJKLAHaFT&pid=Api',\n",
              " 'https://tse4.mm.bing.net/th?id=OIP.eCx3X63lo8itVdrujp3Z7QHaGK&pid=Api',\n",
              " 'https://tse4.mm.bing.net/th?id=OIP.gYkXJXk7xMPpdPy0-dMmtwHaDg&pid=Api',\n",
              " 'https://tse3.mm.bing.net/th?id=OIP.SQeqS8I9wTcOSoQJVrsWbAHaE8&pid=Api',\n",
              " 'https://tse2.mm.bing.net/th?id=OIP.a52sCrDGHvww9fNumDKWNQHaE8&pid=Api',\n",
              " 'https://tse1.mm.bing.net/th?id=OIP.DA1nyUPdHVYj8oFqQrrgxQHaE6&pid=Api',\n",
              " 'https://tse2.mm.bing.net/th?id=OIP.tpTwRAPyb457Oc711Z6HHAHaE8&pid=Api',\n",
              " 'https://tse1.mm.bing.net/th?id=OIP.ntvXEhyP2eGUPpqBuYxIVAHaE8&pid=Api',\n",
              " 'https://tse4.mm.bing.net/th?id=OIP.J1E-Bv2xUQ_xxjm5PsiubgHaG7&pid=Api',\n",
              " 'https://tse3.mm.bing.net/th?id=OIP.ytPRRO8f-QQb9DyQ7iTsgwHaJ4&pid=Api',\n",
              " 'https://tse1.mm.bing.net/th?id=OIP.afODx3Et63YMOQI0RfPF1AAAAA&pid=Api',\n",
              " 'https://tse1.mm.bing.net/th?id=OIP.9WTqKy-KnazUVsl_P6qgUgHaE7&pid=Api',\n",
              " 'https://tse4.mm.bing.net/th?id=OIP.obc7-3zuVh4NgiKg84JWxQHaFX&pid=Api',\n",
              " 'https://tse3.mm.bing.net/th?id=OIP.MvQWHVxh731ss_0lUTGyOAHaGB&pid=Api',\n",
              " 'https://tse4.mm.bing.net/th?id=OIP.ujJkEUCVdukMlcjW81U_ewHaE8&pid=Api',\n",
              " 'https://tse1.mm.bing.net/th?id=OIP.Mj-pHFyVBJmANCkqkzjTJwHaE8&pid=Api',\n",
              " 'https://tse3.mm.bing.net/th?id=OIP.0hcQH0xw0l5K3DBitjA0pQHaJ4&pid=Api',\n",
              " 'https://tse3.mm.bing.net/th?id=OIP.dyFtHbCdxECbjFunINYXywHaI5&pid=Api',\n",
              " 'https://tse1.mm.bing.net/th?id=OIP.jmVBR3RMm5W6G_ojgpQsmQHaEd&pid=Api',\n",
              " 'https://tse3.explicit.bing.net/th?id=OIP.cfr8DsuftJFW4GoLquFQzAEyDL&pid=Api',\n",
              " 'https://tse1.mm.bing.net/th?id=OIP.gF0qy4jEsF5rna4r0ENPtwHaEK&pid=Api',\n",
              " 'https://tse1.explicit.bing.net/th?id=OIP.l1wv7KUw3h8Q8wakoYXkVQHaC_&pid=Api',\n",
              " 'https://tse2.mm.bing.net/th?id=OIP.CFt51aCYXewu-8kMyfBGqgHaFj&pid=Api',\n",
              " 'https://tse2.mm.bing.net/th?id=OIP.UVo1V6ILYCFgpu2b7ui1gQHaE7&pid=Api',\n",
              " 'https://tse3.mm.bing.net/th?id=OIP.P6OhA4YKrtVfADYLqIgNnQHaE8&pid=Api',\n",
              " 'https://tse3.mm.bing.net/th?id=OIP.MXFm1HBXofbLD3u4RVZYIwHaE7&pid=Api',\n",
              " 'https://tse4.mm.bing.net/th?id=OIP.MUQlWisidmgGTSueeHB7uAHaE8&pid=Api',\n",
              " 'https://tse4.mm.bing.net/th?id=OIP.5hzsleyVp3M7mULUOkna4AHaFj&pid=Api',\n",
              " 'https://tse4.mm.bing.net/th?id=OIP.OjWPxUIPoQKT4NymZrkD1gHaFj&pid=Api',\n",
              " 'https://tse4.mm.bing.net/th?id=OIP.TRTS_mr1IGdK2YDTtiwWSAHaE8&pid=Api',\n",
              " 'https://tse2.explicit.bing.net/th?id=OIP.J3Xv4yMB48eNjSpBnp9jxwHaCd&pid=Api',\n",
              " 'https://tse4.explicit.bing.net/th?id=OIP.tyfBguH_CPq5xx8lqYyzgAHaJ4&pid=Api',\n",
              " 'https://tse1.mm.bing.net/th?id=OIP.cGn7N50bsqe0wbFAPOlH_AHaE8&pid=Api',\n",
              " 'https://tse1.mm.bing.net/th?id=OIP.vmM3YPdT35RR7RL2gO4mLwHaLH&pid=Api',\n",
              " 'https://tse2.mm.bing.net/th?id=OIP.xdtMrwJO9Uns2ouZlE-0zQHaE8&pid=Api',\n",
              " 'https://tse3.mm.bing.net/th?id=OIP.8AtgFsezlNLGNxI2PF2NLAHaFj&pid=Api',\n",
              " 'https://tse3.mm.bing.net/th?id=OIP.9x7XZzg92lJY3gk4tGJDYwHaFh&pid=Api',\n",
              " 'https://tse3.mm.bing.net/th?id=OIP.5--6k7AjVCIXehMUTge3xgHaFj&pid=Api',\n",
              " 'https://tse4.mm.bing.net/th?id=OIP.A8joGWb5NluGM75yrbbK1QHaFj&pid=Api',\n",
              " 'https://tse2.mm.bing.net/th?id=OIP.f3wzaSjj7Ry5Rt2npDKDtAHaFU&pid=Api',\n",
              " 'https://tse2.mm.bing.net/th?id=OIP.8el0Ft-9UYRMcn8t5ShdIAHaE8&pid=Api',\n",
              " 'https://tse1.mm.bing.net/th?id=OIP.vg3V04lkshFBwoUM84hWkwHaE7&pid=Api',\n",
              " 'https://tse4.mm.bing.net/th?id=OIP.gGCEW_uTOvxTu38RT2mumAHaJ4&pid=Api',\n",
              " 'https://tse3.mm.bing.net/th?id=OIP.VY2T-1DqkSOlXCkY00QA5wHaE8&pid=Api',\n",
              " 'https://tse4.mm.bing.net/th?id=OIP.yO1t8QGDeYl4elNgAFDRiwHaEK&pid=Api',\n",
              " 'https://tse4.mm.bing.net/th?id=OIP.WX3S8RMptVKKo56G1QdBoQHaE8&pid=Api',\n",
              " 'https://tse2.mm.bing.net/th?id=OIP.QeUOb9Ye8wAj8jHMnyTNAQHaE8&pid=Api',\n",
              " 'https://tse2.mm.bing.net/th?id=OIP.JTsvD2-NjPx4WUZjJ_n_nAHaE8&pid=Api',\n",
              " 'https://tse4.mm.bing.net/th?id=OIP.hglVYzu5PbC3ngMGgVGxIQHaE8&pid=Api',\n",
              " 'https://tse3.mm.bing.net/th?id=OIP.jZvcshUb8Qj10U6tUGFCWwHaFj&pid=Api',\n",
              " 'https://tse1.mm.bing.net/th?id=OIP.5eHYYY4n7QZOLEdGQvb7OgHaE8&pid=Api',\n",
              " 'https://tse2.mm.bing.net/th?id=OIP.I6_K3O8XSkLjTBuP3HUDPwHaE6&pid=Api',\n",
              " 'https://tse3.mm.bing.net/th?id=OIP.XoS-debiRr3ZDJF2cL7hNAHaE7&pid=Api',\n",
              " 'https://tse4.mm.bing.net/th?id=OIP.R8DvLn8PnHcmqRRsab1ZmQHaDf&pid=Api',\n",
              " 'https://tse1.mm.bing.net/th?id=OIP.HxmQejQj6H1AZnH5TDLbXwHaE8&pid=Api',\n",
              " 'https://tse1.mm.bing.net/th?id=OIP.UFpftCk-vrN68wVeJ758LwHaE7&pid=Api',\n",
              " 'https://tse1.mm.bing.net/th?id=OIP.jxDnSBXmPc3BF2nAKw6txwHaE8&pid=Api',\n",
              " 'https://tse2.mm.bing.net/th?id=OIP.vP2Uu7AWR-vzFDBqE5fn8wHaFB&pid=Api',\n",
              " 'https://tse2.mm.bing.net/th?id=OIP.tUgROHBHj7nIlb0wLjmuLwHaLI&pid=Api',\n",
              " 'https://tse3.mm.bing.net/th?id=OIP.DhkvsxkJbwMmLkfyuOoxcwHaE9&pid=Api',\n",
              " 'https://tse4.mm.bing.net/th?id=OIP.d_bG9dsSRta7YN7tKeK2FQHaE8&pid=Api',\n",
              " 'https://tse1.mm.bing.net/th?id=OIP.X47WxMAPyJLCauNnURO2JQHaE7&pid=Api',\n",
              " 'https://tse3.mm.bing.net/th?id=OIP.pwJOXgUC5C40Tsmd79K1qAHaE7&pid=Api',\n",
              " 'https://tse1.mm.bing.net/th?id=OIP.PIOUiFvbQjSLxpzfNl4Z-wHaEv&pid=Api',\n",
              " 'https://tse1.mm.bing.net/th?id=OIP.KDJR1CXxu2K1EUH19ZuJQgHaEm&pid=Api',\n",
              " 'https://tse2.mm.bing.net/th?id=OIP.rThnntxpTH6v4SCOc_TJRQHaJN&pid=Api',\n",
              " 'https://tse1.mm.bing.net/th?id=OIP.c1zYcOYv14ClgxwYos5D9QHaEJ&pid=Api',\n",
              " 'https://tse4.mm.bing.net/th?id=OIP.b3mljj69k3sJwIer_Q83cQHaD6&pid=Api',\n",
              " 'https://tse1.mm.bing.net/th?id=OIP.UYFnPXkvsw2khiUCL2R8kgHaD8&pid=Api',\n",
              " 'https://tse3.explicit.bing.net/th?id=OIP.99Kb30QDxEYR-TADRLTilwHaEo&pid=Api',\n",
              " 'https://tse4.mm.bing.net/th?id=OIP.9eaxIAu_BmBx__xP5Omc3AHaE7&pid=Api',\n",
              " 'https://tse3.mm.bing.net/th?id=OIP.Uxt10LLeIMl7C2xYr-_pJAHaEq&pid=Api',\n",
              " 'https://tse2.mm.bing.net/th?id=OIP.YNzSyYwRPJTI0eHRvfhNpwHaE7&pid=Api',\n",
              " 'https://tse3.mm.bing.net/th?id=OIP.vBFNoK6qpMo7rNlK2T_JfAHaDh&pid=Api',\n",
              " 'https://tse3.mm.bing.net/th?id=OIP.Ieoc2CSpEIKMtG6JkhfMKQHaE7&pid=Api',\n",
              " 'https://tse3.mm.bing.net/th?id=OIP.a43rHhoecHI9Ff5rmOlL5wHaKP&pid=Api',\n",
              " 'https://tse1.mm.bing.net/th?id=OIP.VEqG5R7jAUq-Omt1LRVsmgHaE5&pid=Api',\n",
              " 'https://tse4.mm.bing.net/th?id=OIP.Mn8aSX9SnInDf5BYOitZpgHaE8&pid=Api',\n",
              " 'https://tse1.mm.bing.net/th?id=OIP.kCe1nG81kshIi_sf4fbzMgHaNm&pid=Api',\n",
              " 'https://tse2.mm.bing.net/th?id=OIP.yoXD4Ro9uZxXCQHe0Or0OQHaCx&pid=Api',\n",
              " 'https://tse3.mm.bing.net/th?id=OIP.c4ObdDDYpdnhKVk53_It6AHaE8&pid=Api',\n",
              " 'https://tse4.mm.bing.net/th?id=OIP.mTli_g_E-_MDjUoqIbUzlQHaD3&pid=Api',\n",
              " 'https://tse4.mm.bing.net/th?id=OIP.Q1ah31362D3MatinOxi9XgHaFj&pid=Api',\n",
              " 'https://tse2.mm.bing.net/th?id=OIP.vYNRi36eFoWVr4XQpQG58wHaF7&pid=Api',\n",
              " 'https://tse2.mm.bing.net/th?id=OIP.ZZixMuG14VT1IqIqGCf-rgHaEc&pid=Api',\n",
              " 'https://tse4.mm.bing.net/th?id=OIP.KhRRRUq2tdHaODhmEpcgnQHaEu&pid=Api',\n",
              " 'https://tse2.mm.bing.net/th?id=OIP.M4ni82T7EGEuS6xIPh2elQHaFw&pid=Api',\n",
              " 'https://tse2.mm.bing.net/th?id=OIP.tDNUCyyaE7Pf97J7Ck7SpQHaE8&pid=Api',\n",
              " 'https://tse4.mm.bing.net/th?id=OIP.DXo1STbjdvJhRqXsiIYpXQHaE0&pid=Api',\n",
              " 'https://tse2.mm.bing.net/th?id=OIP.oqjM78FlLypKJNEaVaBP1wHaGt&pid=Api',\n",
              " 'https://tse1.mm.bing.net/th?id=OIP.9BDewtRRJPaqeXGsZmIlYAHaF1&pid=Api',\n",
              " 'https://tse4.mm.bing.net/th?id=OIP.aQXrm9BjMalL1jI2d1yMSQHaGb&pid=Api',\n",
              " 'https://tse4.mm.bing.net/th?id=OIP.GnVQ2rwPmO2aHgViAc-pWQHaIx&pid=Api',\n",
              " 'https://tse4.mm.bing.net/th?id=OIP.APaoobWOPlNflpzzyEQKYQHaE7&pid=Api',\n",
              " 'https://tse1.mm.bing.net/th?id=OIP.nf9GPAJMbbSWTcKf_7rLbgHaE7&pid=Api']"
            ]
          },
          "metadata": {
            "tags": []
          },
          "execution_count": 7
        }
      ]
    },
    {
      "cell_type": "code",
      "metadata": {
        "colab": {
          "base_uri": "https://localhost:8080/"
        },
        "id": "lHYAXmz5ruCi",
        "outputId": "bf0e7ee0-923e-42e5-cc1f-029bc649b945"
      },
      "source": [
        "len(url)"
      ],
      "execution_count": 8,
      "outputs": [
        {
          "output_type": "execute_result",
          "data": {
            "text/plain": [
              "150"
            ]
          },
          "metadata": {
            "tags": []
          },
          "execution_count": 8
        }
      ]
    },
    {
      "cell_type": "code",
      "metadata": {
        "colab": {
          "base_uri": "https://localhost:8080/"
        },
        "id": "DRgOVUicXC58",
        "outputId": "f0e3a723-dfbe-4911-f0e8-3388ebc64239"
      },
      "source": [
        "from google.colab import files\r\n",
        "#!mkdir apoorv\r\n",
        "!ls"
      ],
      "execution_count": 9,
      "outputs": [
        {
          "output_type": "stream",
          "text": [
            "sample_data\n"
          ],
          "name": "stdout"
        }
      ]
    },
    {
      "cell_type": "code",
      "metadata": {
        "id": "eGQ_T60-qc3G"
      },
      "source": [
        "!mkdir data_dog"
      ],
      "execution_count": 10,
      "outputs": []
    },
    {
      "cell_type": "code",
      "metadata": {
        "colab": {
          "base_uri": "https://localhost:8080/"
        },
        "id": "n-sRNRJbq03u",
        "outputId": "7626faa0-1548-42f9-c594-eb10c042e2fb"
      },
      "source": [
        "%cd data_dog"
      ],
      "execution_count": 11,
      "outputs": [
        {
          "output_type": "stream",
          "text": [
            "/content/data_dog\n"
          ],
          "name": "stdout"
        }
      ]
    },
    {
      "cell_type": "code",
      "metadata": {
        "colab": {
          "base_uri": "https://localhost:8080/"
        },
        "id": "eY03Gsryqhe8",
        "outputId": "ab5da3e8-5357-4a9d-b818-37ae2edff2c9"
      },
      "source": [
        "!pwd"
      ],
      "execution_count": 12,
      "outputs": [
        {
          "output_type": "stream",
          "text": [
            "/content/data_dog\n"
          ],
          "name": "stdout"
        }
      ]
    },
    {
      "cell_type": "code",
      "metadata": {
        "id": "O2gPQ0jhTDbY"
      },
      "source": [
        "#all_images = []\r\n",
        "fname = 0\r\n",
        "for img in url:\r\n",
        "  image = requests.get(img)\r\n",
        "  image.raise_for_status()  #### 2 steps for compplete returning of object from the url\r\n",
        "  img = Image.open(BytesIO(image.content)).convert('RGBA')\r\n",
        "  #all_images.append(img)\r\n",
        "  if len(str(fname))==3:\r\n",
        "    with open(str(fname) + '.jpg', 'wb') as f:\r\n",
        "      xyz = bytearray(image.content)\r\n",
        "      f.write(xyz)\r\n",
        "      fname = fname + 1\r\n",
        "  if len(str(fname))==2:\r\n",
        "    with open('0' + str(fname) + '.jpg', 'wb') as f:\r\n",
        "      xyz = bytearray(image.content)\r\n",
        "      f.write(xyz)\r\n",
        "      fname = fname + 1\r\n",
        "  if len(str(fname))==1:\r\n",
        "    with open('00' + str(fname) + '.jpg', 'wb') as f:\r\n",
        "      xyz = bytearray(image.content)\r\n",
        "      f.write(xyz)\r\n",
        "      fname = fname + 1"
      ],
      "execution_count": 13,
      "outputs": []
    },
    {
      "cell_type": "code",
      "metadata": {
        "colab": {
          "base_uri": "https://localhost:8080/"
        },
        "id": "87oXkjrHawA1",
        "outputId": "25d2ac42-e97b-42ea-9acd-c1e7dd44ccd5"
      },
      "source": [
        "%cd .."
      ],
      "execution_count": 14,
      "outputs": [
        {
          "output_type": "stream",
          "text": [
            "/content\n"
          ],
          "name": "stdout"
        }
      ]
    },
    {
      "cell_type": "code",
      "metadata": {
        "colab": {
          "base_uri": "https://localhost:8080/"
        },
        "id": "AlfFzDHCrNCh",
        "outputId": "195e3803-e65a-434e-9103-adf375ab2f17"
      },
      "source": [
        " !zip -r data_dog.zip data_dog/"
      ],
      "execution_count": 15,
      "outputs": [
        {
          "output_type": "stream",
          "text": [
            "  adding: data_dog/ (stored 0%)\n",
            "  adding: data_dog/115.jpg (deflated 0%)\n",
            "  adding: data_dog/075.jpg (deflated 1%)\n",
            "  adding: data_dog/044.jpg (deflated 0%)\n",
            "  adding: data_dog/097.jpg (deflated 0%)\n",
            "  adding: data_dog/050.jpg (deflated 1%)\n",
            "  adding: data_dog/109.jpg (deflated 1%)\n",
            "  adding: data_dog/008.jpg (deflated 0%)\n",
            "  adding: data_dog/065.jpg (deflated 1%)\n",
            "  adding: data_dog/074.jpg (deflated 1%)\n",
            "  adding: data_dog/072.jpg (deflated 5%)\n",
            "  adding: data_dog/045.jpg (deflated 1%)\n",
            "  adding: data_dog/122.jpg (deflated 1%)\n",
            "  adding: data_dog/144.jpg (deflated 1%)\n",
            "  adding: data_dog/133.jpg (deflated 0%)\n",
            "  adding: data_dog/079.jpg (deflated 1%)\n",
            "  adding: data_dog/135.jpg (deflated 1%)\n",
            "  adding: data_dog/026.jpg (deflated 0%)\n",
            "  adding: data_dog/125.jpg (deflated 1%)\n",
            "  adding: data_dog/083.jpg (deflated 1%)\n",
            "  adding: data_dog/112.jpg (deflated 1%)\n",
            "  adding: data_dog/028.jpg (deflated 0%)\n",
            "  adding: data_dog/141.jpg (deflated 1%)\n",
            "  adding: data_dog/090.jpg (deflated 1%)\n",
            "  adding: data_dog/067.jpg (deflated 3%)\n",
            "  adding: data_dog/087.jpg (deflated 1%)\n",
            "  adding: data_dog/062.jpg (deflated 0%)\n",
            "  adding: data_dog/016.jpg (deflated 1%)\n",
            "  adding: data_dog/038.jpg (deflated 0%)\n",
            "  adding: data_dog/080.jpg (deflated 1%)\n",
            "  adding: data_dog/069.jpg (deflated 1%)\n",
            "  adding: data_dog/002.jpg (deflated 1%)\n",
            "  adding: data_dog/106.jpg (deflated 1%)\n",
            "  adding: data_dog/129.jpg (deflated 0%)\n",
            "  adding: data_dog/099.jpg (deflated 1%)\n",
            "  adding: data_dog/123.jpg (deflated 1%)\n",
            "  adding: data_dog/001.jpg (deflated 1%)\n",
            "  adding: data_dog/056.jpg (deflated 2%)\n",
            "  adding: data_dog/081.jpg (deflated 1%)\n",
            "  adding: data_dog/148.jpg (deflated 1%)\n",
            "  adding: data_dog/020.jpg (deflated 1%)\n",
            "  adding: data_dog/058.jpg (deflated 1%)\n",
            "  adding: data_dog/127.jpg (deflated 0%)\n",
            "  adding: data_dog/035.jpg (deflated 1%)\n",
            "  adding: data_dog/013.jpg (deflated 0%)\n",
            "  adding: data_dog/124.jpg (deflated 1%)\n",
            "  adding: data_dog/046.jpg (deflated 1%)\n",
            "  adding: data_dog/100.jpg (deflated 1%)\n",
            "  adding: data_dog/024.jpg (deflated 0%)\n",
            "  adding: data_dog/126.jpg (deflated 0%)\n",
            "  adding: data_dog/078.jpg (deflated 1%)\n",
            "  adding: data_dog/004.jpg (deflated 1%)\n",
            "  adding: data_dog/007.jpg (deflated 1%)\n",
            "  adding: data_dog/085.jpg (deflated 1%)\n",
            "  adding: data_dog/042.jpg (deflated 1%)\n",
            "  adding: data_dog/105.jpg (deflated 1%)\n",
            "  adding: data_dog/029.jpg (deflated 1%)\n",
            "  adding: data_dog/047.jpg (deflated 1%)\n",
            "  adding: data_dog/006.jpg (deflated 1%)\n",
            "  adding: data_dog/064.jpg (deflated 0%)\n",
            "  adding: data_dog/036.jpg (deflated 1%)\n",
            "  adding: data_dog/093.jpg (deflated 1%)\n",
            "  adding: data_dog/022.jpg (deflated 0%)\n",
            "  adding: data_dog/102.jpg (deflated 1%)\n",
            "  adding: data_dog/110.jpg (deflated 0%)\n",
            "  adding: data_dog/032.jpg (deflated 1%)\n",
            "  adding: data_dog/082.jpg (deflated 1%)\n",
            "  adding: data_dog/103.jpg (deflated 1%)\n",
            "  adding: data_dog/089.jpg (deflated 1%)\n",
            "  adding: data_dog/034.jpg (deflated 1%)\n",
            "  adding: data_dog/098.jpg (deflated 1%)\n",
            "  adding: data_dog/063.jpg (deflated 0%)\n",
            "  adding: data_dog/073.jpg (deflated 0%)\n",
            "  adding: data_dog/142.jpg (deflated 1%)\n",
            "  adding: data_dog/010.jpg (deflated 1%)\n",
            "  adding: data_dog/048.jpg (deflated 1%)\n",
            "  adding: data_dog/108.jpg (deflated 1%)\n",
            "  adding: data_dog/060.jpg (deflated 1%)\n",
            "  adding: data_dog/037.jpg (deflated 12%)\n",
            "  adding: data_dog/018.jpg (deflated 1%)\n",
            "  adding: data_dog/113.jpg (deflated 0%)\n",
            "  adding: data_dog/027.jpg (deflated 1%)\n",
            "  adding: data_dog/000.jpg (deflated 1%)\n",
            "  adding: data_dog/107.jpg (deflated 1%)\n",
            "  adding: data_dog/117.jpg (deflated 1%)\n",
            "  adding: data_dog/116.jpg (deflated 1%)\n",
            "  adding: data_dog/023.jpg (deflated 1%)\n",
            "  adding: data_dog/147.jpg (deflated 0%)\n",
            "  adding: data_dog/049.jpg (deflated 2%)\n",
            "  adding: data_dog/132.jpg (deflated 0%)\n",
            "  adding: data_dog/039.jpg (deflated 0%)\n",
            "  adding: data_dog/030.jpg (deflated 1%)\n",
            "  adding: data_dog/061.jpg (deflated 0%)\n",
            "  adding: data_dog/128.jpg (deflated 1%)\n",
            "  adding: data_dog/070.jpg (deflated 1%)\n",
            "  adding: data_dog/053.jpg (deflated 1%)\n",
            "  adding: data_dog/040.jpg (deflated 0%)\n",
            "  adding: data_dog/021.jpg (deflated 1%)\n",
            "  adding: data_dog/017.jpg (deflated 0%)\n",
            "  adding: data_dog/104.jpg (deflated 1%)\n",
            "  adding: data_dog/092.jpg (deflated 1%)\n",
            "  adding: data_dog/120.jpg (deflated 1%)\n",
            "  adding: data_dog/121.jpg (deflated 1%)\n",
            "  adding: data_dog/137.jpg (deflated 0%)\n",
            "  adding: data_dog/012.jpg (deflated 1%)\n",
            "  adding: data_dog/031.jpg (deflated 0%)\n",
            "  adding: data_dog/052.jpg (deflated 1%)\n",
            "  adding: data_dog/101.jpg (deflated 0%)\n",
            "  adding: data_dog/143.jpg (deflated 0%)\n",
            "  adding: data_dog/057.jpg (deflated 1%)\n",
            "  adding: data_dog/134.jpg (deflated 1%)\n",
            "  adding: data_dog/131.jpg (deflated 1%)\n",
            "  adding: data_dog/068.jpg (deflated 1%)\n",
            "  adding: data_dog/118.jpg (deflated 1%)\n",
            "  adding: data_dog/003.jpg (deflated 0%)\n",
            "  adding: data_dog/005.jpg (deflated 0%)\n",
            "  adding: data_dog/059.jpg (deflated 2%)\n",
            "  adding: data_dog/136.jpg (deflated 1%)\n",
            "  adding: data_dog/091.jpg (deflated 1%)\n",
            "  adding: data_dog/096.jpg (deflated 0%)\n",
            "  adding: data_dog/054.jpg (deflated 1%)\n",
            "  adding: data_dog/145.jpg (deflated 1%)\n",
            "  adding: data_dog/041.jpg (deflated 0%)\n",
            "  adding: data_dog/130.jpg (deflated 4%)\n",
            "  adding: data_dog/114.jpg (deflated 1%)\n",
            "  adding: data_dog/043.jpg (deflated 0%)\n",
            "  adding: data_dog/086.jpg (deflated 0%)\n",
            "  adding: data_dog/138.jpg (deflated 0%)\n",
            "  adding: data_dog/066.jpg (deflated 1%)\n",
            "  adding: data_dog/025.jpg (deflated 0%)\n",
            "  adding: data_dog/140.jpg (deflated 0%)\n",
            "  adding: data_dog/084.jpg (deflated 1%)\n",
            "  adding: data_dog/146.jpg (deflated 0%)\n",
            "  adding: data_dog/149.jpg (deflated 1%)\n",
            "  adding: data_dog/139.jpg (deflated 1%)\n",
            "  adding: data_dog/015.jpg (deflated 1%)\n",
            "  adding: data_dog/088.jpg (deflated 0%)\n",
            "  adding: data_dog/077.jpg (deflated 1%)\n",
            "  adding: data_dog/051.jpg (deflated 1%)\n",
            "  adding: data_dog/014.jpg (deflated 1%)\n",
            "  adding: data_dog/033.jpg (deflated 1%)\n",
            "  adding: data_dog/076.jpg (deflated 1%)\n",
            "  adding: data_dog/071.jpg (deflated 1%)\n",
            "  adding: data_dog/119.jpg (deflated 1%)\n",
            "  adding: data_dog/055.jpg (deflated 0%)\n",
            "  adding: data_dog/009.jpg (deflated 0%)\n",
            "  adding: data_dog/011.jpg (deflated 1%)\n",
            "  adding: data_dog/094.jpg (deflated 1%)\n",
            "  adding: data_dog/111.jpg (deflated 1%)\n",
            "  adding: data_dog/095.jpg (deflated 1%)\n",
            "  adding: data_dog/019.jpg (deflated 0%)\n"
          ],
          "name": "stdout"
        }
      ]
    },
    {
      "cell_type": "code",
      "metadata": {
        "colab": {
          "base_uri": "https://localhost:8080/",
          "height": 17
        },
        "id": "kw1NDfSJa30G",
        "outputId": "8a192683-9d1a-4f25-d265-2f807eb025be"
      },
      "source": [
        "files.download('data_dog.zip')"
      ],
      "execution_count": 16,
      "outputs": [
        {
          "output_type": "display_data",
          "data": {
            "application/javascript": [
              "\n",
              "    async function download(id, filename, size) {\n",
              "      if (!google.colab.kernel.accessAllowed) {\n",
              "        return;\n",
              "      }\n",
              "      const div = document.createElement('div');\n",
              "      const label = document.createElement('label');\n",
              "      label.textContent = `Downloading \"${filename}\": `;\n",
              "      div.appendChild(label);\n",
              "      const progress = document.createElement('progress');\n",
              "      progress.max = size;\n",
              "      div.appendChild(progress);\n",
              "      document.body.appendChild(div);\n",
              "\n",
              "      const buffers = [];\n",
              "      let downloaded = 0;\n",
              "\n",
              "      const channel = await google.colab.kernel.comms.open(id);\n",
              "      // Send a message to notify the kernel that we're ready.\n",
              "      channel.send({})\n",
              "\n",
              "      for await (const message of channel.messages) {\n",
              "        // Send a message to notify the kernel that we're ready.\n",
              "        channel.send({})\n",
              "        if (message.buffers) {\n",
              "          for (const buffer of message.buffers) {\n",
              "            buffers.push(buffer);\n",
              "            downloaded += buffer.byteLength;\n",
              "            progress.value = downloaded;\n",
              "          }\n",
              "        }\n",
              "      }\n",
              "      const blob = new Blob(buffers, {type: 'application/binary'});\n",
              "      const a = document.createElement('a');\n",
              "      a.href = window.URL.createObjectURL(blob);\n",
              "      a.download = filename;\n",
              "      div.appendChild(a);\n",
              "      a.click();\n",
              "      div.remove();\n",
              "    }\n",
              "  "
            ],
            "text/plain": [
              "<IPython.core.display.Javascript object>"
            ]
          },
          "metadata": {
            "tags": []
          }
        },
        {
          "output_type": "display_data",
          "data": {
            "application/javascript": [
              "download(\"download_b6a5b744-b7fd-440d-890e-5b834c4920b3\", \"data_dog.zip\", 5610510)"
            ],
            "text/plain": [
              "<IPython.core.display.Javascript object>"
            ]
          },
          "metadata": {
            "tags": []
          }
        }
      ]
    },
    {
      "cell_type": "code",
      "metadata": {
        "id": "7UebUUWqbYiE"
      },
      "source": [
        "\r\n"
      ],
      "execution_count": 16,
      "outputs": []
    },
    {
      "cell_type": "code",
      "metadata": {
        "id": "I7UWnLizboWB"
      },
      "source": [
        ""
      ],
      "execution_count": 16,
      "outputs": []
    }
  ]
}