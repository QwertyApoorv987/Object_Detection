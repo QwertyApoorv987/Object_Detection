{
  "nbformat": 4,
  "nbformat_minor": 0,
  "metadata": {
    "colab": {
      "name": "Finding_Labels.ipynb",
      "provenance": [],
      "authorship_tag": "ABX9TyPq/91aolj352ae8I1Drffb",
      "include_colab_link": true
    },
    "kernelspec": {
      "name": "python3",
      "display_name": "Python 3"
    }
  },
  "cells": [
    {
      "cell_type": "markdown",
      "metadata": {
        "id": "view-in-github",
        "colab_type": "text"
      },
      "source": [
        "<a href=\"https://colab.research.google.com/github/QwertyApoorv987/Object_Detection/blob/main/Finding_Labels.ipynb\" target=\"_parent\"><img src=\"https://colab.research.google.com/assets/colab-badge.svg\" alt=\"Open In Colab\"/></a>"
      ]
    },
    {
      "cell_type": "code",
      "metadata": {
        "colab": {
          "base_uri": "https://localhost:8080/"
        },
        "id": "Y2-WciEyADhO",
        "outputId": "0e1bc57b-4d73-40c6-c806-4f6febcecccd"
      },
      "source": [
        "################## labels done ################################\r\n",
        "\r\n",
        "labels = []\r\n",
        "import os\r\n",
        "animals = ['dogs','cats','rats']\r\n",
        "classes = {'dogs': 0,\r\n",
        "'cats':1,\r\n",
        "'rats':2}\r\n",
        "\r\n",
        "path =['dogs','cats','rats','dogsandcats','ratsanddogs']\r\n",
        "for impath in path:\r\n",
        "  label = [0] * len(animals)\r\n",
        "  #label =np.zeros(len(animals))\r\n",
        "  #label.astype(int)\r\n",
        "  if 'and' in impath:\r\n",
        "    names = impath.split('and')\r\n",
        "    for i in range(len(names)):\r\n",
        "      label[classes[names[i]]]=1   #### adding 1 to names[0] and names[1]\r\n",
        "    #label =label.tolist()\r\n",
        "    labels.append(label)\r\n",
        "  else:\r\n",
        "    label[classes[impath]]=1\r\n",
        "    #label =label.tolist()\r\n",
        "    labels.append(label)\r\n",
        "print(labels)"
      ],
      "execution_count": 66,
      "outputs": [
        {
          "output_type": "stream",
          "text": [
            "[[1, 0, 0], [0, 1, 0], [0, 0, 1], [1, 1, 0], [1, 0, 1]]\n"
          ],
          "name": "stdout"
        }
      ]
    },
    {
      "cell_type": "code",
      "metadata": {
        "colab": {
          "base_uri": "https://localhost:8080/"
        },
        "id": "0pdzb_cFXx1r",
        "outputId": "59b40689-e49b-4f7a-b89c-84c4261903c9"
      },
      "source": [
        "print(labels)"
      ],
      "execution_count": 56,
      "outputs": [
        {
          "output_type": "stream",
          "text": [
            "[array([1., 0., 0.]), array([0., 1., 0.]), array([0., 0., 1.]), array([1., 1., 0.]), array([1., 0., 1.])]\n"
          ],
          "name": "stdout"
        }
      ]
    },
    {
      "cell_type": "code",
      "metadata": {
        "colab": {
          "base_uri": "https://localhost:8080/"
        },
        "id": "KvwTu91QWtAS",
        "outputId": "a358da7b-1ba9-477e-e190-871d131d9a8c"
      },
      "source": [
        "l = np.zeros([3])\r\n",
        "l[2] = 1\r\n",
        "la = []\r\n",
        "la.append(l)\r\n",
        "print(la)"
      ],
      "execution_count": 47,
      "outputs": [
        {
          "output_type": "stream",
          "text": [
            "[array([0., 0., 1.])]\n"
          ],
          "name": "stdout"
        }
      ]
    },
    {
      "cell_type": "code",
      "metadata": {
        "colab": {
          "base_uri": "https://localhost:8080/"
        },
        "id": "4AoOmSKZJUlB",
        "outputId": "5f12f5de-b386-42cf-91c2-83fc05ea2f17"
      },
      "source": [
        "import numpy as np\r\n",
        "from sklearn.preprocessing import MultiLabelBinarizer\r\n",
        "labels = np.array(labels)\r\n",
        "lb = MultiLabelBinarizer()\r\n",
        "print(lb.fit_transform(labels))\r\n",
        "\r\n",
        "\r\n",
        "print(labels)"
      ],
      "execution_count": 28,
      "outputs": [
        {
          "output_type": "stream",
          "text": [
            "[[0 0 0 1 0 1 1 0 0 1 0]\n",
            " [1 1 0 0 0 0 0 0 0 1 1]\n",
            " [1 0 0 0 0 0 0 1 0 1 1]\n",
            " [0 0 1 0 1 0 0 0 0 0 0]\n",
            " [0 0 0 0 1 0 0 0 1 0 0]]\n",
            "['dogs' 'cats' 'rats' list(['dogs', 'cats']) list(['rats', 'dogs'])]\n"
          ],
          "name": "stdout"
        }
      ]
    }
  ]
}