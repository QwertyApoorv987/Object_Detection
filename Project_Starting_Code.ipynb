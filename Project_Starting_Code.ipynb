{
  "nbformat": 4,
  "nbformat_minor": 0,
  "metadata": {
    "colab": {
      "name": "Project_Starting.ipynb",
      "provenance": [],
      "collapsed_sections": [],
      "authorship_tag": "ABX9TyOXCl+ygDxMfNmkATaSo3r3",
      "include_colab_link": true
    },
    "kernelspec": {
      "name": "python3",
      "display_name": "Python 3"
    }
  },
  "cells": [
    {
      "cell_type": "markdown",
      "metadata": {
        "id": "view-in-github",
        "colab_type": "text"
      },
      "source": [
        "<a href=\"https://colab.research.google.com/github/QwertyApoorv987/Object_Detection/blob/main/Project_Starting_Code.ipynb\" target=\"_parent\"><img src=\"https://colab.research.google.com/assets/colab-badge.svg\" alt=\"Open In Colab\"/></a>"
      ]
    },
    {
      "cell_type": "code",
      "metadata": {
        "id": "50KYWCnmex50"
      },
      "source": [
        "import matplotlib.pyplot as plt\r\n",
        "import matplotlib\r\n",
        "matplotlib.use('Agg')\r\n",
        "from sklearn.preprocessing import LabelBinarizer # Label encoding, 1-hot encoding, multi-encoding\r\n",
        "# LABEL binarizer is a 1-hot encoded MATRIX \r\n",
        "import cv2\r\n",
        "import numpy as np\r\n",
        "import random\r\n",
        "import imutils\r\n",
        "from imutils import paths\r\n",
        "from keras.preprocessing.image import ImageDataGenerator, img_to_array\r\n",
        "from sklearn.model_selection import train_test_split\r\n",
        "from keras import backend # backend -> tf/theano etc\r\n",
        "from keras.layers.core import Dense, Dropout, Flatten, Activation\r\n",
        "from keras.layers.convolutional import Conv2D, MaxPooling2D\r\n",
        "from keras.layers.normalization import BatchNormalization\r\n",
        "from keras.models import Sequential # no parallel, no cycles "
      ],
      "execution_count": 1,
      "outputs": []
    },
    {
      "cell_type": "code",
      "metadata": {
        "id": "nxvsFT50fLiK"
      },
      "source": [
        "HP_dataset = 'Data'\r\n",
        "HP_model_path = 'bin/model'\r\n",
        "HP_binarized_labels = 'bin/labels'\r\n",
        "HP_metrics_storage = 'eval'\r\n",
        "HP_test_dataset = 'test'\r\n",
        "HP_epoch = 100\r\n",
        "HP_init_lr = 1e-3 # learning_rate = 0.001\r\n",
        "HP_batch_size = 32\r\n",
        "HP_image_dim = (96,96,3)"
      ],
      "execution_count": 2,
      "outputs": []
    },
    {
      "cell_type": "code",
      "metadata": {
        "colab": {
          "base_uri": "https://localhost:8080/"
        },
        "id": "kAzQoeBxgoOU",
        "outputId": "b04bc0cb-9a0b-4989-cf76-608dc04afb1a"
      },
      "source": [
        "data = []\r\n",
        "labels = [] \r\n",
        "# read all images\r\n",
        "all_images = sorted(list(paths.list_images(HP_dataset))) ### listing all the images that have Data in their path\r\n",
        "all_images[:5]"
      ],
      "execution_count": 3,
      "outputs": [
        {
          "output_type": "execute_result",
          "data": {
            "text/plain": [
              "['Data/Cat/animal-image_0.png',\n",
              " 'Data/Cat/animal-image_1.png',\n",
              " 'Data/Cat/animal-image_10.png',\n",
              " 'Data/Cat/animal-image_100.png',\n",
              " 'Data/Cat/animal-image_101.png']"
            ]
          },
          "metadata": {
            "tags": []
          },
          "execution_count": 3
        }
      ]
    },
    {
      "cell_type": "code",
      "metadata": {
        "id": "POoTE6PYhnWA"
      },
      "source": [
        "random.seed(42)\r\n",
        "random.shuffle(all_images)"
      ],
      "execution_count": 4,
      "outputs": []
    },
    {
      "cell_type": "code",
      "metadata": {
        "id": "CiJ1ryYIhtIV"
      },
      "source": [
        "data = []\r\n",
        "labels = []\r\n",
        "import os\r\n",
        "for impath in all_images:\r\n",
        "  img = cv2.imread(impath)\r\n",
        "  resized = cv2.resize(img, (HP_image_dim[0],HP_image_dim[1]) ) ### every image to (96,96) aspect ratio\r\n",
        "  imageData = img_to_array(resized)\r\n",
        "  data.append(imageData) #### data contains every image , data[0] first image\r\n",
        "  # extract label from filename (2nd last element) / \\\\ \r\n",
        "  label = impath.split(os.path.sep)[-2]\r\n",
        "  labels.append(label) ### labels containing Dogs, Jaguars corresponding to each image"
      ],
      "execution_count": 5,
      "outputs": []
    },
    {
      "cell_type": "code",
      "metadata": {
        "id": "XHQME6hGPggF"
      },
      "source": [
        "##### data contains images and labels contain labels"
      ],
      "execution_count": null,
      "outputs": []
    },
    {
      "cell_type": "code",
      "metadata": {
        "id": "g1qSF2sniVSt"
      },
      "source": [
        "####### My code starting "
      ],
      "execution_count": null,
      "outputs": []
    },
    {
      "cell_type": "code",
      "metadata": {
        "id": "TcL_w1cTjMQP"
      },
      "source": [
        "######################################################################################################"
      ],
      "execution_count": null,
      "outputs": []
    },
    {
      "cell_type": "code",
      "metadata": {
        "colab": {
          "base_uri": "https://localhost:8080/"
        },
        "id": "muAA8GQY0-iF",
        "outputId": "9625026b-5a02-4a3c-a6d5-9384c6787ed3"
      },
      "source": [
        "print(len(data))\r\n",
        "print(len(labels))"
      ],
      "execution_count": 11,
      "outputs": [
        {
          "output_type": "stream",
          "text": [
            "450\n",
            "450\n"
          ],
          "name": "stdout"
        }
      ]
    },
    {
      "cell_type": "code",
      "metadata": {
        "colab": {
          "base_uri": "https://localhost:8080/"
        },
        "id": "vatY9LN4xAtE",
        "outputId": "21009aac-8068-49ac-85a3-522cf3b1c41e"
      },
      "source": [
        "labels = np.array(labels)\r\n",
        "lb = LabelBinarizer()\r\n",
        "print(labels)\r\n",
        "binarized_labels = lb.fit_transform(labels)  \r\n",
        "print(binarized_labels[1])  #### not working as of now but would work\r\n",
        "\r\n",
        "\r\n",
        "################### also lb.classes_ contains the name of all the labels\r\n",
        "###### binarised labels and data  ###################################"
      ],
      "execution_count": 7,
      "outputs": [
        {
          "output_type": "stream",
          "text": [
            "['Cat' 'Cat' 'Dog' 'Dog' 'Dog' 'Jaguar' 'Dog' 'Cat' 'Cat' 'Cat' 'Cat'\n",
            " 'Jaguar' 'Dog' 'Dog' 'Dog' 'Dog' 'Jaguar' 'Dog' 'Dog' 'Cat' 'Jaguar'\n",
            " 'Cat' 'Dog' 'Cat' 'Cat' 'Jaguar' 'Dog' 'Cat' 'Jaguar' 'Cat' 'Cat' 'Cat'\n",
            " 'Cat' 'Cat' 'Jaguar' 'Jaguar' 'Dog' 'Dog' 'Jaguar' 'Dog' 'Dog' 'Cat'\n",
            " 'Cat' 'Jaguar' 'Dog' 'Dog' 'Dog' 'Jaguar' 'Cat' 'Jaguar' 'Jaguar' 'Cat'\n",
            " 'Dog' 'Jaguar' 'Cat' 'Cat' 'Dog' 'Dog' 'Jaguar' 'Jaguar' 'Cat' 'Dog'\n",
            " 'Jaguar' 'Jaguar' 'Cat' 'Jaguar' 'Cat' 'Jaguar' 'Dog' 'Jaguar' 'Cat'\n",
            " 'Cat' 'Cat' 'Dog' 'Cat' 'Jaguar' 'Dog' 'Jaguar' 'Jaguar' 'Jaguar'\n",
            " 'Jaguar' 'Dog' 'Jaguar' 'Dog' 'Cat' 'Dog' 'Jaguar' 'Dog' 'Dog' 'Cat'\n",
            " 'Dog' 'Jaguar' 'Dog' 'Dog' 'Cat' 'Dog' 'Jaguar' 'Dog' 'Cat' 'Dog' 'Cat'\n",
            " 'Cat' 'Jaguar' 'Cat' 'Cat' 'Dog' 'Dog' 'Cat' 'Dog' 'Jaguar' 'Dog' 'Cat'\n",
            " 'Cat' 'Dog' 'Dog' 'Jaguar' 'Cat' 'Cat' 'Cat' 'Dog' 'Dog' 'Dog' 'Jaguar'\n",
            " 'Jaguar' 'Dog' 'Dog' 'Cat' 'Jaguar' 'Jaguar' 'Cat' 'Dog' 'Dog' 'Jaguar'\n",
            " 'Dog' 'Dog' 'Cat' 'Jaguar' 'Dog' 'Dog' 'Cat' 'Cat' 'Cat' 'Dog' 'Cat'\n",
            " 'Dog' 'Jaguar' 'Dog' 'Jaguar' 'Jaguar' 'Cat' 'Cat' 'Dog' 'Cat' 'Dog'\n",
            " 'Dog' 'Dog' 'Dog' 'Dog' 'Dog' 'Jaguar' 'Cat' 'Jaguar' 'Jaguar' 'Jaguar'\n",
            " 'Dog' 'Jaguar' 'Dog' 'Jaguar' 'Cat' 'Cat' 'Dog' 'Cat' 'Dog' 'Jaguar'\n",
            " 'Dog' 'Dog' 'Jaguar' 'Jaguar' 'Dog' 'Jaguar' 'Jaguar' 'Cat' 'Dog' 'Cat'\n",
            " 'Dog' 'Cat' 'Jaguar' 'Dog' 'Jaguar' 'Jaguar' 'Dog' 'Jaguar' 'Cat'\n",
            " 'Jaguar' 'Cat' 'Jaguar' 'Dog' 'Dog' 'Jaguar' 'Cat' 'Cat' 'Jaguar' 'Dog'\n",
            " 'Cat' 'Cat' 'Cat' 'Cat' 'Dog' 'Jaguar' 'Dog' 'Dog' 'Cat' 'Jaguar'\n",
            " 'Jaguar' 'Cat' 'Cat' 'Dog' 'Dog' 'Cat' 'Cat' 'Dog' 'Jaguar' 'Jaguar'\n",
            " 'Jaguar' 'Cat' 'Dog' 'Jaguar' 'Jaguar' 'Dog' 'Cat' 'Dog' 'Jaguar' 'Cat'\n",
            " 'Jaguar' 'Jaguar' 'Jaguar' 'Cat' 'Cat' 'Cat' 'Dog' 'Jaguar' 'Cat'\n",
            " 'Jaguar' 'Dog' 'Cat' 'Jaguar' 'Dog' 'Jaguar' 'Jaguar' 'Jaguar' 'Jaguar'\n",
            " 'Jaguar' 'Dog' 'Jaguar' 'Dog' 'Jaguar' 'Jaguar' 'Cat' 'Dog' 'Cat' 'Cat'\n",
            " 'Jaguar' 'Dog' 'Cat' 'Jaguar' 'Cat' 'Cat' 'Cat' 'Dog' 'Jaguar' 'Dog'\n",
            " 'Cat' 'Dog' 'Dog' 'Cat' 'Dog' 'Dog' 'Cat' 'Dog' 'Jaguar' 'Jaguar' 'Dog'\n",
            " 'Dog' 'Cat' 'Dog' 'Cat' 'Dog' 'Jaguar' 'Cat' 'Jaguar' 'Cat' 'Dog'\n",
            " 'Jaguar' 'Jaguar' 'Jaguar' 'Jaguar' 'Jaguar' 'Cat' 'Cat' 'Dog' 'Cat'\n",
            " 'Dog' 'Dog' 'Dog' 'Dog' 'Cat' 'Jaguar' 'Jaguar' 'Jaguar' 'Cat' 'Cat'\n",
            " 'Cat' 'Cat' 'Dog' 'Dog' 'Cat' 'Jaguar' 'Jaguar' 'Dog' 'Dog' 'Dog' 'Dog'\n",
            " 'Cat' 'Dog' 'Jaguar' 'Cat' 'Jaguar' 'Jaguar' 'Cat' 'Dog' 'Jaguar' 'Dog'\n",
            " 'Dog' 'Jaguar' 'Jaguar' 'Dog' 'Cat' 'Cat' 'Cat' 'Dog' 'Dog' 'Jaguar'\n",
            " 'Cat' 'Cat' 'Dog' 'Jaguar' 'Dog' 'Jaguar' 'Cat' 'Jaguar' 'Dog' 'Jaguar'\n",
            " 'Jaguar' 'Dog' 'Cat' 'Jaguar' 'Jaguar' 'Cat' 'Jaguar' 'Jaguar' 'Jaguar'\n",
            " 'Cat' 'Jaguar' 'Cat' 'Dog' 'Dog' 'Cat' 'Dog' 'Jaguar' 'Dog' 'Jaguar'\n",
            " 'Jaguar' 'Cat' 'Jaguar' 'Jaguar' 'Cat' 'Cat' 'Jaguar' 'Cat' 'Cat'\n",
            " 'Jaguar' 'Cat' 'Dog' 'Dog' 'Jaguar' 'Jaguar' 'Dog' 'Dog' 'Cat' 'Dog'\n",
            " 'Cat' 'Dog' 'Dog' 'Jaguar' 'Cat' 'Cat' 'Jaguar' 'Dog' 'Dog' 'Cat' 'Dog'\n",
            " 'Jaguar' 'Jaguar' 'Dog' 'Jaguar' 'Cat' 'Cat' 'Jaguar' 'Dog' 'Jaguar'\n",
            " 'Jaguar' 'Cat' 'Jaguar' 'Cat' 'Jaguar' 'Cat' 'Jaguar' 'Dog' 'Cat' 'Dog'\n",
            " 'Jaguar' 'Jaguar' 'Jaguar' 'Jaguar' 'Cat' 'Dog' 'Cat' 'Jaguar' 'Dog'\n",
            " 'Cat' 'Cat' 'Cat' 'Cat' 'Cat' 'Dog' 'Jaguar' 'Cat' 'Dog' 'Jaguar'\n",
            " 'Jaguar' 'Cat' 'Jaguar' 'Cat' 'Cat' 'Cat' 'Cat' 'Jaguar' 'Cat' 'Cat'\n",
            " 'Jaguar']\n",
            "[1 0 0]\n"
          ],
          "name": "stdout"
        }
      ]
    },
    {
      "cell_type": "code",
      "metadata": {
        "colab": {
          "base_uri": "https://localhost:8080/"
        },
        "id": "WEwplSnhX4tk",
        "outputId": "8d47fe9b-49d6-4359-c737-280bbf385487"
      },
      "source": [
        "print(lb.classes_)"
      ],
      "execution_count": 25,
      "outputs": [
        {
          "output_type": "stream",
          "text": [
            "['Cat' 'Dog' 'Jaguar']\n"
          ],
          "name": "stdout"
        }
      ]
    },
    {
      "cell_type": "code",
      "metadata": {
        "id": "9ompJBSa0H5p"
      },
      "source": [
        "norm_data = np.array(data, dtype='float') / 255 \r\n",
        "trainx, testx, trainy, testy = train_test_split(norm_data,binarized_labels,test_size=0.2,random_state=42)\r\n",
        "# train and test data ready \r\n",
        "# Augmentation generators are logic for augmentation\r\n",
        "# APplication of augmentation is after this\r\n",
        "\r\n",
        "\r\n",
        "####### normalizing and splitting into train and test "
      ],
      "execution_count": 8,
      "outputs": []
    },
    {
      "cell_type": "code",
      "metadata": {
        "colab": {
          "base_uri": "https://localhost:8080/"
        },
        "id": "0AX_QcqNQ7yL",
        "outputId": "820f9fa5-fe07-413b-d8e1-a8f365658d29"
      },
      "source": [
        "aug = ImageDataGenerator(rotation_range=25, width_shift_range=0.1, height_shift_range=0.1,\r\n",
        "                         shear_range=0.2, zoom_range=0.2, horizontal_flip=True, fill_mode='nearest')\r\n",
        "more_images = []\r\n",
        "more_images= aug.flow_from_directory(\r\n",
        "    directory=r\"./Data/\",\r\n",
        "    target_size=(96,96),\r\n",
        "    batch_size=32,\r\n",
        "    class_mode=\"categorical\",\r\n",
        "    shuffle=True,\r\n",
        "    seed=42)"
      ],
      "execution_count": 22,
      "outputs": [
        {
          "output_type": "stream",
          "text": [
            "Found 450 images belonging to 4 classes.\n"
          ],
          "name": "stdout"
        }
      ]
    },
    {
      "cell_type": "code",
      "metadata": {
        "colab": {
          "base_uri": "https://localhost:8080/"
        },
        "id": "0y6ymVEXVBJp",
        "outputId": "39559e86-4631-4091-ba5a-8a19d880d8d5"
      },
      "source": [
        "len(more_images)"
      ],
      "execution_count": 23,
      "outputs": [
        {
          "output_type": "execute_result",
          "data": {
            "text/plain": [
              "15"
            ]
          },
          "metadata": {
            "tags": []
          },
          "execution_count": 23
        }
      ]
    },
    {
      "cell_type": "code",
      "metadata": {
        "id": "BO1zbKyEz-v8"
      },
      "source": [
        "class CorrectPandaVGG: # model.fit(), model.predict() ; for them you need object\r\n",
        "  @staticmethod\r\n",
        "  def create(width, height, depth, classes): # TF was CHANNELS_LAST -> depth is mentioned as the last value, after w&h\r\n",
        "    model = Sequential()\r\n",
        "    inputShape = (height, width, depth) # the expected shape as per TF\r\n",
        "    # but what if this program is then run on some other framework? which follows channels_first instead?\r\n",
        "    chanDim = -1 # CHANNELS_LAST set as default \r\n",
        "    # now check if some other library except TF or CNTK is running\r\n",
        "    if backend.image_data_format() == \"channels_first\":\r\n",
        "      inputShape = (depth, height, width) # this chan_dim is a measure of DEPTH of data-> so makes sense only for multidimension data, such as image or video\r\n",
        "      chanDim = 1 # for Theano (if tf or CNTK is not running)\r\n",
        "    # Design our network\r\n",
        "    # FIRST BLOCK = Conv + ReLU + BN + MP + D\r\n",
        "    model.add(Conv2D(32,(3,3), padding='same', input_shape=inputShape)) # all keras backends compatible\r\n",
        "    model.add(Activation('relu'))\r\n",
        "    model.add(BatchNormalization(axis=chanDim)) # Normalization needs to be along axis- R,G and B! \r\n",
        "    # After BN, the important FILTERED features are available now as WEIGHTS \r\n",
        "    model.add(MaxPooling2D(pool_size=(3,3)))\r\n",
        "    model.add(Dropout(0.25)) \r\n",
        "    # Learning Layers -> Conv + ReLU + BN\r\n",
        "    # that means, to increase the number of features, i need to repeat the Conv+ReLU+BN to generate more and more\r\n",
        "    # features\r\n",
        "    # MAX Pool is to compress, and Dropout -> randomly select features for partial learning \r\n",
        "    \r\n",
        "    # BLOCK 2 should have slightly more features, because we have compressed and DROPPED the data!!! \r\n",
        "    # we should generate more activity maps henceforth to compensate for data loss \r\n",
        "    # BLOCK 2 = (Conv->Relu->BN)X2 + MP + D\r\n",
        "    # LET X = Conv->Relu->BN\r\n",
        "    # Block 2 = 2 X + MP + D\r\n",
        "    # My network so far = Block 1 + Block 2\r\n",
        "    # FeatureClassification = Flatten + Dense(ReLU) + Dense(SoftMax)\r\n",
        "    # PandaVGG = X + MP + D +   ( 2 X + MP + D ) * no_of_times_you_want_to_repeat + FeatureClassification\r\n",
        "    # First X -> got activity map for 100% of data (X=Conv+Relu+BN)\r\n",
        "    # then Activity Maps are compressed and sent to subsequent layers (MaxPooling)\r\n",
        "    # Dropout to learn about only a section of data (Dropout)\r\n",
        "    model.add(Conv2D(64,(3,3), padding='same'))\r\n",
        "    model.add(Activation('relu'))\r\n",
        "    model.add(BatchNormalization(axis=chanDim))\r\n",
        "    model.add(Conv2D(64,(3,3), padding='same'))\r\n",
        "    model.add(Activation('relu'))\r\n",
        "    model.add(BatchNormalization(axis=chanDim))\r\n",
        "    model.add(MaxPooling2D(pool_size=(2,2))) # SMALLER pool size-> finer features selected -> BIGGER compression\r\n",
        "    model.add(Dropout(0.25))\r\n",
        "\r\n",
        "    # block 3\r\n",
        "    model.add(Conv2D(128,(3,3), padding='same'))\r\n",
        "    model.add(Activation('relu'))\r\n",
        "    model.add(BatchNormalization(axis=chanDim))\r\n",
        "    model.add(Conv2D(128,(3,3), padding='same'))\r\n",
        "    model.add(Activation('relu'))\r\n",
        "    model.add(BatchNormalization(axis=chanDim))\r\n",
        "    model.add(MaxPooling2D(pool_size=(2,2))) # SMALLER pool size-> more data lost -> BIGGER compression\r\n",
        "    model.add(Dropout(0.25))\r\n",
        "    # block 4\r\n",
        "    model.add(Conv2D(256,(3,3), padding='same'))\r\n",
        "    model.add(Activation('relu'))\r\n",
        "    model.add(BatchNormalization(axis=chanDim))\r\n",
        "    model.add(Conv2D(256,(3,3), padding='same'))\r\n",
        "    model.add(Activation('relu'))\r\n",
        "    model.add(BatchNormalization(axis=chanDim))\r\n",
        "    model.add(MaxPooling2D(pool_size=(2,2))) # SMALLER pool size-> more data lost -> BIGGER compression\r\n",
        "    model.add(Dropout(0.25))\r\n",
        "    #VGG has now become = block1 +block2+block3+block4 + FeatureClassification\r\n",
        "    # VGG= X(32)+MP(3,3)+D+2X(64)+MP(2,2)+D+2X(128)+MP(2,2)+D+2X(256)+MP(2,2)+D+Flatten+DenseRelu+DenseSoftMax\r\n",
        "    # Where X = Conv2D + ReLU + BN \r\n",
        "    # Our PandaVGG now has 32 layers\r\n",
        "\r\n",
        "    #FINAL Classification block\r\n",
        "    # ALL micro and macro features (FILTERsX Input = Activity Map) have been generated\r\n",
        "    # SO FLATTEN out to bring all axises into same DIMENSION\r\n",
        "    model.add(Flatten())\r\n",
        "    model.add(Dense(1024))\r\n",
        "    model.add(Dense(512))\r\n",
        "    model.add(Activation('relu'))\r\n",
        "    # optional: EVEN more regularization\r\n",
        "    #model.add(BatchNormalization())\r\n",
        "    #model.add(Dropout(0.5))\r\n",
        "    #regularization over, Classify using SOFTMAX\r\n",
        "\r\n",
        "\r\n",
        "#################### here on needs work  #################################################\r\n",
        "  \r\n",
        "    model.add(Dense(classes))  \r\n",
        "    model.add(Activation('softmax'))\r\n",
        "    return model\r\n",
        "\r\n",
        "\r\n",
        "\r\n",
        "\r\n",
        "\r\n",
        "###################### Main work needs to be done 1)what should be the final activation layer\r\n",
        "##############################2) how to mark the box dimensions for training images"
      ],
      "execution_count": 26,
      "outputs": []
    },
    {
      "cell_type": "code",
      "metadata": {
        "id": "DFC7iZ4yjJb7"
      },
      "source": [
        "#####################clear these \r\n",
        "\r\n",
        "##################################\r\n",
        "\r\n"
      ],
      "execution_count": null,
      "outputs": []
    },
    {
      "cell_type": "code",
      "metadata": {
        "id": "hemH-mPuW8vi"
      },
      "source": [
        "from keras.optimizers import Adam\r\n",
        "# or use the previous class, both are same\r\n",
        "model = CorrectPandaVGG.create(HP_image_dim[0], HP_image_dim[1], HP_image_dim[2],len(lb.classes_))\r\n",
        "optimizer = Adam(lr=HP_init_lr, decay= HP_init_lr/HP_epoch)\r\n",
        "\r\n",
        "\r\n",
        "################# figure out loss and metrics ###########################\r\n",
        "model.compile(loss='categorical_crossentropy', optimizer=optimizer, metrics=['accuracy'])"
      ],
      "execution_count": 28,
      "outputs": []
    },
    {
      "cell_type": "code",
      "metadata": {
        "colab": {
          "base_uri": "https://localhost:8080/"
        },
        "id": "l4Sj6MckoTcb",
        "outputId": "bd6dac0b-2201-4c00-b291-b50847c320e9"
      },
      "source": [
        "history = model.fit_generator(aug.flow(trainx, trainy, batch_size=HP_batch_size), \r\n",
        "                              validation_data=(testx,testy),\r\n",
        "                              steps_per_epoch = len(trainx)/HP_batch_size,\r\n",
        "                              epochs=HP_epoch)\r\n",
        "####steps_per_epoch: \r\n",
        "### Total number of steps (batches of samples) to yield from generator \r\n",
        "##### before declaring one epoch finished and starting the next epoch.\r\n",
        "\r\n",
        "#### So in every epoch (number of images in training set/ batch_size) these many times images are generated using aug"
      ],
      "execution_count": 29,
      "outputs": [
        {
          "output_type": "stream",
          "text": [
            "/usr/local/lib/python3.6/dist-packages/tensorflow/python/keras/engine/training.py:1844: UserWarning: `Model.fit_generator` is deprecated and will be removed in a future version. Please use `Model.fit`, which supports generators.\n",
            "  warnings.warn('`Model.fit_generator` is deprecated and '\n"
          ],
          "name": "stderr"
        },
        {
          "output_type": "stream",
          "text": [
            "Epoch 1/100\n",
            "11/11 [==============================] - 14s 1s/step - loss: 12.6100 - accuracy: 0.3486 - val_loss: 1.2012 - val_accuracy: 0.3111\n",
            "Epoch 2/100\n",
            "11/11 [==============================] - 12s 1s/step - loss: 4.0923 - accuracy: 0.3646 - val_loss: 1.3726 - val_accuracy: 0.3000\n",
            "Epoch 3/100\n",
            "11/11 [==============================] - 12s 1s/step - loss: 4.0433 - accuracy: 0.4027 - val_loss: 1.3690 - val_accuracy: 0.3000\n",
            "Epoch 4/100\n",
            "11/11 [==============================] - 12s 1s/step - loss: 2.5290 - accuracy: 0.5492 - val_loss: 1.5479 - val_accuracy: 0.3000\n",
            "Epoch 5/100\n",
            "11/11 [==============================] - 12s 1s/step - loss: 2.0237 - accuracy: 0.5403 - val_loss: 1.1076 - val_accuracy: 0.2889\n",
            "Epoch 6/100\n",
            "11/11 [==============================] - 12s 1s/step - loss: 1.5809 - accuracy: 0.5410 - val_loss: 3.0124 - val_accuracy: 0.3000\n",
            "Epoch 7/100\n",
            "11/11 [==============================] - 12s 1s/step - loss: 1.6956 - accuracy: 0.4521 - val_loss: 2.4339 - val_accuracy: 0.2889\n",
            "Epoch 8/100\n",
            "11/11 [==============================] - 14s 1s/step - loss: 1.2946 - accuracy: 0.5200 - val_loss: 1.9375 - val_accuracy: 0.3000\n",
            "Epoch 9/100\n",
            "11/11 [==============================] - 13s 1s/step - loss: 0.9924 - accuracy: 0.5741 - val_loss: 1.2044 - val_accuracy: 0.4000\n",
            "Epoch 10/100\n",
            "11/11 [==============================] - 14s 1s/step - loss: 0.9318 - accuracy: 0.5633 - val_loss: 1.1453 - val_accuracy: 0.2778\n",
            "Epoch 11/100\n",
            "11/11 [==============================] - 13s 1s/step - loss: 0.9577 - accuracy: 0.6126 - val_loss: 1.6695 - val_accuracy: 0.3000\n",
            "Epoch 12/100\n",
            "11/11 [==============================] - 13s 1s/step - loss: 0.8600 - accuracy: 0.6524 - val_loss: 1.1137 - val_accuracy: 0.3889\n",
            "Epoch 13/100\n",
            "11/11 [==============================] - 13s 1s/step - loss: 0.9610 - accuracy: 0.5802 - val_loss: 1.7169 - val_accuracy: 0.3000\n",
            "Epoch 14/100\n",
            "11/11 [==============================] - 13s 1s/step - loss: 0.7523 - accuracy: 0.6905 - val_loss: 1.8589 - val_accuracy: 0.3000\n",
            "Epoch 15/100\n",
            "11/11 [==============================] - 13s 1s/step - loss: 0.8528 - accuracy: 0.6522 - val_loss: 1.0936 - val_accuracy: 0.3889\n",
            "Epoch 16/100\n",
            "11/11 [==============================] - 13s 1s/step - loss: 0.9676 - accuracy: 0.6253 - val_loss: 3.1467 - val_accuracy: 0.3000\n",
            "Epoch 17/100\n",
            "11/11 [==============================] - 13s 1s/step - loss: 0.7272 - accuracy: 0.7116 - val_loss: 2.8519 - val_accuracy: 0.3000\n",
            "Epoch 18/100\n",
            "11/11 [==============================] - 13s 1s/step - loss: 0.7834 - accuracy: 0.6683 - val_loss: 2.2376 - val_accuracy: 0.3000\n",
            "Epoch 19/100\n",
            "11/11 [==============================] - 13s 1s/step - loss: 0.7066 - accuracy: 0.6931 - val_loss: 2.8393 - val_accuracy: 0.3000\n",
            "Epoch 20/100\n",
            "11/11 [==============================] - 13s 1s/step - loss: 0.7669 - accuracy: 0.6951 - val_loss: 1.7406 - val_accuracy: 0.3000\n",
            "Epoch 21/100\n",
            "11/11 [==============================] - 13s 1s/step - loss: 0.7589 - accuracy: 0.7065 - val_loss: 1.9450 - val_accuracy: 0.3000\n",
            "Epoch 22/100\n",
            "11/11 [==============================] - 14s 1s/step - loss: 0.6408 - accuracy: 0.7021 - val_loss: 3.5179 - val_accuracy: 0.3000\n",
            "Epoch 23/100\n",
            "11/11 [==============================] - 13s 1s/step - loss: 0.6432 - accuracy: 0.6835 - val_loss: 4.2574 - val_accuracy: 0.3000\n",
            "Epoch 24/100\n",
            "11/11 [==============================] - 13s 1s/step - loss: 0.5827 - accuracy: 0.7895 - val_loss: 1.2620 - val_accuracy: 0.4111\n",
            "Epoch 25/100\n",
            "11/11 [==============================] - 13s 1s/step - loss: 0.7011 - accuracy: 0.7154 - val_loss: 3.0870 - val_accuracy: 0.3000\n",
            "Epoch 26/100\n",
            "11/11 [==============================] - 13s 1s/step - loss: 0.5754 - accuracy: 0.7750 - val_loss: 1.3507 - val_accuracy: 0.4556\n",
            "Epoch 27/100\n",
            "11/11 [==============================] - 13s 1s/step - loss: 0.7050 - accuracy: 0.6815 - val_loss: 3.0385 - val_accuracy: 0.3000\n",
            "Epoch 28/100\n",
            "11/11 [==============================] - 13s 1s/step - loss: 0.7139 - accuracy: 0.7225 - val_loss: 2.4774 - val_accuracy: 0.2889\n",
            "Epoch 29/100\n",
            "11/11 [==============================] - 13s 1s/step - loss: 0.7112 - accuracy: 0.7002 - val_loss: 1.9717 - val_accuracy: 0.3000\n",
            "Epoch 30/100\n",
            "11/11 [==============================] - 13s 1s/step - loss: 0.6175 - accuracy: 0.7318 - val_loss: 1.7087 - val_accuracy: 0.3111\n",
            "Epoch 31/100\n",
            "11/11 [==============================] - 14s 1s/step - loss: 0.5423 - accuracy: 0.7708 - val_loss: 3.5128 - val_accuracy: 0.3111\n",
            "Epoch 32/100\n",
            "11/11 [==============================] - 13s 1s/step - loss: 0.5121 - accuracy: 0.7696 - val_loss: 2.8186 - val_accuracy: 0.3111\n",
            "Epoch 33/100\n",
            "11/11 [==============================] - 13s 1s/step - loss: 0.5004 - accuracy: 0.7896 - val_loss: 1.5870 - val_accuracy: 0.3333\n",
            "Epoch 34/100\n",
            "11/11 [==============================] - 13s 1s/step - loss: 0.6911 - accuracy: 0.7386 - val_loss: 1.8186 - val_accuracy: 0.3222\n",
            "Epoch 35/100\n",
            "11/11 [==============================] - 13s 1s/step - loss: 0.7044 - accuracy: 0.7012 - val_loss: 2.7480 - val_accuracy: 0.3000\n",
            "Epoch 36/100\n",
            "11/11 [==============================] - 13s 1s/step - loss: 0.5855 - accuracy: 0.7802 - val_loss: 1.9285 - val_accuracy: 0.2667\n",
            "Epoch 37/100\n",
            "11/11 [==============================] - 13s 1s/step - loss: 0.5704 - accuracy: 0.7742 - val_loss: 1.4854 - val_accuracy: 0.4889\n",
            "Epoch 38/100\n",
            "11/11 [==============================] - 13s 1s/step - loss: 0.6695 - accuracy: 0.6999 - val_loss: 2.6285 - val_accuracy: 0.3111\n",
            "Epoch 39/100\n",
            "11/11 [==============================] - 13s 1s/step - loss: 0.5706 - accuracy: 0.7538 - val_loss: 1.4477 - val_accuracy: 0.3333\n",
            "Epoch 40/100\n",
            "11/11 [==============================] - 13s 1s/step - loss: 0.5246 - accuracy: 0.7630 - val_loss: 1.0339 - val_accuracy: 0.5778\n",
            "Epoch 41/100\n",
            "11/11 [==============================] - 13s 1s/step - loss: 0.5294 - accuracy: 0.7799 - val_loss: 1.3984 - val_accuracy: 0.3667\n",
            "Epoch 42/100\n",
            "11/11 [==============================] - 14s 1s/step - loss: 0.6891 - accuracy: 0.7058 - val_loss: 1.0753 - val_accuracy: 0.5667\n",
            "Epoch 43/100\n",
            "11/11 [==============================] - 13s 1s/step - loss: 0.5952 - accuracy: 0.7437 - val_loss: 1.5887 - val_accuracy: 0.4444\n",
            "Epoch 44/100\n",
            "11/11 [==============================] - 13s 1s/step - loss: 0.6253 - accuracy: 0.7514 - val_loss: 1.2946 - val_accuracy: 0.5556\n",
            "Epoch 45/100\n",
            "11/11 [==============================] - 13s 1s/step - loss: 0.7153 - accuracy: 0.7338 - val_loss: 1.2466 - val_accuracy: 0.4889\n",
            "Epoch 46/100\n",
            "11/11 [==============================] - 13s 1s/step - loss: 0.5012 - accuracy: 0.8008 - val_loss: 1.2202 - val_accuracy: 0.5000\n",
            "Epoch 47/100\n",
            "11/11 [==============================] - 13s 1s/step - loss: 0.4928 - accuracy: 0.7844 - val_loss: 1.1245 - val_accuracy: 0.5889\n",
            "Epoch 48/100\n",
            "11/11 [==============================] - 14s 1s/step - loss: 0.4941 - accuracy: 0.7949 - val_loss: 1.1921 - val_accuracy: 0.5444\n",
            "Epoch 49/100\n",
            "11/11 [==============================] - 13s 1s/step - loss: 0.4387 - accuracy: 0.7940 - val_loss: 1.2105 - val_accuracy: 0.5556\n",
            "Epoch 50/100\n",
            "11/11 [==============================] - 13s 1s/step - loss: 0.4616 - accuracy: 0.8366 - val_loss: 1.2818 - val_accuracy: 0.5000\n",
            "Epoch 51/100\n",
            "11/11 [==============================] - 13s 1s/step - loss: 0.5675 - accuracy: 0.7848 - val_loss: 1.7971 - val_accuracy: 0.5000\n",
            "Epoch 52/100\n",
            "11/11 [==============================] - 13s 1s/step - loss: 0.5004 - accuracy: 0.8209 - val_loss: 1.7254 - val_accuracy: 0.4667\n",
            "Epoch 53/100\n",
            "11/11 [==============================] - 13s 1s/step - loss: 0.4942 - accuracy: 0.8071 - val_loss: 1.3427 - val_accuracy: 0.4778\n",
            "Epoch 54/100\n",
            "11/11 [==============================] - 13s 1s/step - loss: 0.5279 - accuracy: 0.8034 - val_loss: 1.3200 - val_accuracy: 0.4778\n",
            "Epoch 55/100\n",
            "11/11 [==============================] - 13s 1s/step - loss: 0.4959 - accuracy: 0.7791 - val_loss: 1.5745 - val_accuracy: 0.5222\n",
            "Epoch 56/100\n",
            "11/11 [==============================] - 13s 1s/step - loss: 0.5240 - accuracy: 0.7820 - val_loss: 1.5811 - val_accuracy: 0.5333\n",
            "Epoch 57/100\n",
            "11/11 [==============================] - 13s 1s/step - loss: 0.4852 - accuracy: 0.8023 - val_loss: 1.3298 - val_accuracy: 0.6333\n",
            "Epoch 58/100\n",
            "11/11 [==============================] - 13s 1s/step - loss: 0.4291 - accuracy: 0.8240 - val_loss: 1.4316 - val_accuracy: 0.5889\n",
            "Epoch 59/100\n",
            "11/11 [==============================] - 13s 1s/step - loss: 0.4080 - accuracy: 0.8597 - val_loss: 2.2393 - val_accuracy: 0.3667\n",
            "Epoch 60/100\n",
            "11/11 [==============================] - 13s 1s/step - loss: 0.5181 - accuracy: 0.7939 - val_loss: 1.8517 - val_accuracy: 0.5333\n",
            "Epoch 61/100\n",
            "11/11 [==============================] - 13s 1s/step - loss: 0.5522 - accuracy: 0.7855 - val_loss: 2.4564 - val_accuracy: 0.4889\n",
            "Epoch 62/100\n",
            "11/11 [==============================] - 13s 1s/step - loss: 0.4884 - accuracy: 0.7952 - val_loss: 1.6834 - val_accuracy: 0.4333\n",
            "Epoch 63/100\n",
            "11/11 [==============================] - 13s 1s/step - loss: 0.4859 - accuracy: 0.8155 - val_loss: 1.2738 - val_accuracy: 0.6111\n",
            "Epoch 64/100\n",
            "11/11 [==============================] - 13s 1s/step - loss: 0.4662 - accuracy: 0.8008 - val_loss: 1.4588 - val_accuracy: 0.5889\n",
            "Epoch 65/100\n",
            "11/11 [==============================] - 13s 1s/step - loss: 0.5372 - accuracy: 0.8011 - val_loss: 1.1538 - val_accuracy: 0.6222\n",
            "Epoch 66/100\n",
            "11/11 [==============================] - 13s 1s/step - loss: 0.3397 - accuracy: 0.8820 - val_loss: 1.7655 - val_accuracy: 0.5556\n",
            "Epoch 67/100\n",
            "11/11 [==============================] - 13s 1s/step - loss: 0.4628 - accuracy: 0.8385 - val_loss: 1.5877 - val_accuracy: 0.5556\n",
            "Epoch 68/100\n",
            "11/11 [==============================] - 13s 1s/step - loss: 0.5457 - accuracy: 0.7845 - val_loss: 1.1771 - val_accuracy: 0.6111\n",
            "Epoch 69/100\n",
            "11/11 [==============================] - 13s 1s/step - loss: 0.4001 - accuracy: 0.8473 - val_loss: 1.2195 - val_accuracy: 0.6333\n",
            "Epoch 70/100\n",
            "11/11 [==============================] - 13s 1s/step - loss: 0.3899 - accuracy: 0.8773 - val_loss: 1.3760 - val_accuracy: 0.6333\n",
            "Epoch 71/100\n",
            "11/11 [==============================] - 13s 1s/step - loss: 0.3323 - accuracy: 0.8473 - val_loss: 1.2421 - val_accuracy: 0.5889\n",
            "Epoch 72/100\n",
            "11/11 [==============================] - 13s 1s/step - loss: 0.4109 - accuracy: 0.8411 - val_loss: 1.5683 - val_accuracy: 0.5556\n",
            "Epoch 73/100\n",
            "11/11 [==============================] - 13s 1s/step - loss: 0.4331 - accuracy: 0.8192 - val_loss: 1.7767 - val_accuracy: 0.6000\n",
            "Epoch 74/100\n",
            "11/11 [==============================] - 13s 1s/step - loss: 0.5002 - accuracy: 0.7586 - val_loss: 3.3851 - val_accuracy: 0.3444\n",
            "Epoch 75/100\n",
            "11/11 [==============================] - 13s 1s/step - loss: 0.4885 - accuracy: 0.8234 - val_loss: 2.7600 - val_accuracy: 0.4444\n",
            "Epoch 76/100\n",
            "11/11 [==============================] - 13s 1s/step - loss: 0.3973 - accuracy: 0.8549 - val_loss: 3.1173 - val_accuracy: 0.5000\n",
            "Epoch 77/100\n",
            "11/11 [==============================] - 13s 1s/step - loss: 0.3841 - accuracy: 0.8797 - val_loss: 2.0938 - val_accuracy: 0.5333\n",
            "Epoch 78/100\n",
            "11/11 [==============================] - 13s 1s/step - loss: 0.4702 - accuracy: 0.8170 - val_loss: 1.6292 - val_accuracy: 0.5667\n",
            "Epoch 79/100\n",
            "11/11 [==============================] - 13s 1s/step - loss: 0.5028 - accuracy: 0.7796 - val_loss: 1.4209 - val_accuracy: 0.6000\n",
            "Epoch 80/100\n",
            "11/11 [==============================] - 13s 1s/step - loss: 0.4440 - accuracy: 0.8041 - val_loss: 1.7299 - val_accuracy: 0.5889\n",
            "Epoch 81/100\n",
            "11/11 [==============================] - 13s 1s/step - loss: 0.4757 - accuracy: 0.7695 - val_loss: 2.1738 - val_accuracy: 0.4667\n",
            "Epoch 82/100\n",
            "11/11 [==============================] - 13s 1s/step - loss: 0.3397 - accuracy: 0.8686 - val_loss: 2.2282 - val_accuracy: 0.5556\n",
            "Epoch 83/100\n",
            "11/11 [==============================] - 13s 1s/step - loss: 0.4150 - accuracy: 0.8488 - val_loss: 1.7005 - val_accuracy: 0.5556\n",
            "Epoch 84/100\n",
            "11/11 [==============================] - 13s 1s/step - loss: 0.2890 - accuracy: 0.8883 - val_loss: 2.0655 - val_accuracy: 0.5222\n",
            "Epoch 85/100\n",
            "11/11 [==============================] - 13s 1s/step - loss: 0.2876 - accuracy: 0.8845 - val_loss: 1.9279 - val_accuracy: 0.4778\n",
            "Epoch 86/100\n",
            "11/11 [==============================] - 13s 1s/step - loss: 0.3176 - accuracy: 0.8670 - val_loss: 2.4244 - val_accuracy: 0.5444\n",
            "Epoch 87/100\n",
            "11/11 [==============================] - 13s 1s/step - loss: 0.3180 - accuracy: 0.8674 - val_loss: 1.7478 - val_accuracy: 0.5778\n",
            "Epoch 88/100\n",
            "11/11 [==============================] - 13s 1s/step - loss: 0.3197 - accuracy: 0.8724 - val_loss: 1.7864 - val_accuracy: 0.4889\n",
            "Epoch 89/100\n",
            "11/11 [==============================] - 13s 1s/step - loss: 0.3469 - accuracy: 0.8714 - val_loss: 1.7780 - val_accuracy: 0.5667\n",
            "Epoch 90/100\n",
            "11/11 [==============================] - 13s 1s/step - loss: 0.3642 - accuracy: 0.8599 - val_loss: 1.8596 - val_accuracy: 0.5111\n",
            "Epoch 91/100\n",
            "11/11 [==============================] - 13s 1s/step - loss: 0.4420 - accuracy: 0.8476 - val_loss: 2.1276 - val_accuracy: 0.4333\n",
            "Epoch 92/100\n",
            "11/11 [==============================] - 13s 1s/step - loss: 0.3746 - accuracy: 0.8459 - val_loss: 1.9710 - val_accuracy: 0.4889\n",
            "Epoch 93/100\n",
            "11/11 [==============================] - 13s 1s/step - loss: 0.3728 - accuracy: 0.8615 - val_loss: 2.2687 - val_accuracy: 0.4778\n",
            "Epoch 94/100\n",
            "11/11 [==============================] - 13s 1s/step - loss: 0.3219 - accuracy: 0.8571 - val_loss: 1.3736 - val_accuracy: 0.6556\n",
            "Epoch 95/100\n",
            "11/11 [==============================] - 13s 1s/step - loss: 0.3095 - accuracy: 0.8566 - val_loss: 2.3204 - val_accuracy: 0.5444\n",
            "Epoch 96/100\n",
            "11/11 [==============================] - 13s 1s/step - loss: 0.2816 - accuracy: 0.9047 - val_loss: 1.9849 - val_accuracy: 0.6222\n",
            "Epoch 97/100\n",
            "11/11 [==============================] - 13s 1s/step - loss: 0.3209 - accuracy: 0.8914 - val_loss: 4.4035 - val_accuracy: 0.3444\n",
            "Epoch 98/100\n",
            "11/11 [==============================] - 13s 1s/step - loss: 0.3166 - accuracy: 0.8839 - val_loss: 1.6327 - val_accuracy: 0.5667\n",
            "Epoch 99/100\n",
            "11/11 [==============================] - 13s 1s/step - loss: 0.3381 - accuracy: 0.8688 - val_loss: 2.3615 - val_accuracy: 0.5333\n",
            "Epoch 100/100\n",
            "11/11 [==============================] - 13s 1s/step - loss: 0.3435 - accuracy: 0.8716 - val_loss: 2.4881 - val_accuracy: 0.5222\n"
          ],
          "name": "stdout"
        }
      ]
    },
    {
      "cell_type": "code",
      "metadata": {
        "id": "mV2Oj8UTpXjh"
      },
      "source": [
        "HP_model_path = 'bin/model/myModel.h5'\r\n",
        "HP_binarized_labels = 'bin/labels/labels.bin'\r\n",
        "model.save(HP_model_path)   ####################### saving model ######################################"
      ],
      "execution_count": 30,
      "outputs": []
    },
    {
      "cell_type": "code",
      "metadata": {
        "id": "t8ZznwOxoKxf"
      },
      "source": [
        "f = open(HP_binarized_labels, 'wb') # our integer is represent in binary format!\r\n",
        "f.write(pickle.dumps(lb))\r\n",
        "f.close()\r\n",
        "\r\n",
        "\r\n",
        "####\r\n",
        "f = open(HP_binarized_labels, 'rb')\r\n",
        "mylabels = f.read()\r\n",
        "binarized_labels = pickle.loads(mylabels)\r\n",
        "\r\n",
        "\r\n",
        "###### this cell is just storing the labels and then again constructing back with the help of file \r\n"
      ],
      "execution_count": null,
      "outputs": []
    },
    {
      "cell_type": "code",
      "metadata": {
        "id": "o5WAXRgQrHxb"
      },
      "source": [
        "#######################################    testing is left #################################################################"
      ],
      "execution_count": null,
      "outputs": []
    }
  ]
}